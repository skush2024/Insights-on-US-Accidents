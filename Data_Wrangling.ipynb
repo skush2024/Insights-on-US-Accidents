{
 "cells": [
  {
   "cell_type": "markdown",
   "id": "38532492-2c05-4ec1-90c4-32ce09d01183",
   "metadata": {},
   "source": [
    "# Dataset Description"
   ]
  },
  {
   "cell_type": "markdown",
   "id": "ba829f2c-e967-4ea4-bae5-9145ce6d084f",
   "metadata": {},
   "source": [
    "<h2> Kaggle Dataset </h2>"
   ]
  },
  {
   "cell_type": "markdown",
   "id": "c4d05d09-ef96-4762-9394-3460a093697b",
   "metadata": {},
   "source": [
    "https://www.kaggle.com/datasets/sobhanmoosavi/us-accidents/data"
   ]
  },
  {
   "cell_type": "markdown",
   "id": "624834b3-d882-4c1f-8e38-a8f7c263094d",
   "metadata": {},
   "source": [
    "<b> Acknowledgements"
   ]
  },
  {
   "cell_type": "markdown",
   "id": "4c00f776-31fb-4681-85a6-0a70127a02f2",
   "metadata": {},
   "source": [
    "1. Moosavi, Sobhan, Mohammad Hossein Samavatian, Srinivasan Parthasarathy, and Rajiv Ramnath. “A Countrywide Traffic Accident Dataset.”, 2019.\n",
    "2. Moosavi, Sobhan, Mohammad Hossein Samavatian, Srinivasan Parthasarathy, Radu Teodorescu, and Rajiv Ramnath. \"Accident Risk Prediction based on Heterogeneous Sparse Data: New Dataset and Insights.\" In proceedings of the 27th ACM SIGSPATIAL International Conference on Advances in Geographic Information Systems, ACM, 2019.\n"
   ]
  },
  {
   "cell_type": "markdown",
   "id": "c6e38649-6dc2-4d3e-ae48-f0a7fd6caaa1",
   "metadata": {},
   "source": [
    "This is a countrywide car accident dataset that covers 48 states of the USA. The accident data were collected from February 2016 to March 2023, using multiple APIs that provide streaming traffic incident (or event) data. These APIs broadcast traffic data captured by various entities, including the US and state departments of transportation, law enforcement agencies, traffic cameras, and traffic sensors \n",
    "within the road networks. The dataset currently contains approximately 7.7 million accident records."
   ]
  },
  {
   "cell_type": "markdown",
   "id": "3e596877-a0bd-4692-af9d-4f70959aeb06",
   "metadata": {},
   "source": [
    "<h2> Department of Transportation Data</h2>"
   ]
  },
  {
   "cell_type": "markdown",
   "id": "bead728a-bfb3-4919-b40f-767cc9915205",
   "metadata": {},
   "source": [
    "https://www.fhwa.dot.gov/policyinformation/statistics/2022/dl201.cfm?utm_source=chatgpt.com"
   ]
  },
  {
   "cell_type": "markdown",
   "id": "ed5decad-8d3b-487d-bcd1-3639bf2d8daf",
   "metadata": {},
   "source": [
    "<h1> Importing Libraries </h1>"
   ]
  },
  {
   "cell_type": "code",
   "execution_count": 2,
   "id": "36e68954-ec6e-442b-a309-10c9759adadd",
   "metadata": {},
   "outputs": [],
   "source": [
    "import pandas as pd\n",
    "import numpy as np\n",
    "import matplotlib.pyplot as plt\n",
    "import seaborn as sns"
   ]
  },
  {
   "cell_type": "code",
   "execution_count": 3,
   "id": "b06d476a-e9fd-4bde-bdb9-6693dc0200e8",
   "metadata": {},
   "outputs": [],
   "source": [
    "import warnings"
   ]
  },
  {
   "cell_type": "code",
   "execution_count": 4,
   "id": "d2c6b5a3-fc6a-49b2-90c6-62c5d2773dbc",
   "metadata": {},
   "outputs": [],
   "source": [
    "warnings.simplefilter('ignore')"
   ]
  },
  {
   "cell_type": "code",
   "execution_count": 5,
   "id": "4e3fb3f4-ec04-4a11-80fe-e138969feb45",
   "metadata": {},
   "outputs": [],
   "source": [
    "pd.set_option('display.max_columns', 50)\n",
    "pd.set_option('display.max_rows', 150)"
   ]
  },
  {
   "cell_type": "markdown",
   "id": "1bb8fe52-ee57-45e0-87a1-c2bd6e101eb9",
   "metadata": {},
   "source": [
    "<h1> Pickling the Data </h1>\n",
    "\n",
    "<p> Since the data contains 7.7M Records, we have pickled the file for faster loading of the data.</p>"
   ]
  },
  {
   "cell_type": "code",
   "execution_count": 10,
   "id": "06d17030-0b54-441f-8773-e1fae6a6322a",
   "metadata": {},
   "outputs": [],
   "source": [
    "# df = pd.read_csv(\"US_Accidents_March23.csv\")\n",
    "# df.to_pickle(\"data.pkl\")"
   ]
  },
  {
   "cell_type": "code",
   "execution_count": 12,
   "id": "7e0be4cd-a894-4bf4-8e35-967817391775",
   "metadata": {},
   "outputs": [],
   "source": [
    "df = pd.read_pickle(\"data.pkl\")"
   ]
  },
  {
   "cell_type": "code",
   "execution_count": 13,
   "id": "d8610c80-bb68-4823-b8f9-3929b9a3207d",
   "metadata": {},
   "outputs": [
    {
     "data": {
      "text/html": [
       "<div>\n",
       "<style scoped>\n",
       "    .dataframe tbody tr th:only-of-type {\n",
       "        vertical-align: middle;\n",
       "    }\n",
       "\n",
       "    .dataframe tbody tr th {\n",
       "        vertical-align: top;\n",
       "    }\n",
       "\n",
       "    .dataframe thead th {\n",
       "        text-align: right;\n",
       "    }\n",
       "</style>\n",
       "<table border=\"1\" class=\"dataframe\">\n",
       "  <thead>\n",
       "    <tr style=\"text-align: right;\">\n",
       "      <th></th>\n",
       "      <th>ID</th>\n",
       "      <th>Source</th>\n",
       "      <th>Severity</th>\n",
       "      <th>Start_Time</th>\n",
       "      <th>End_Time</th>\n",
       "      <th>Start_Lat</th>\n",
       "      <th>Start_Lng</th>\n",
       "      <th>End_Lat</th>\n",
       "      <th>End_Lng</th>\n",
       "      <th>Distance(mi)</th>\n",
       "      <th>Description</th>\n",
       "      <th>Street</th>\n",
       "      <th>City</th>\n",
       "      <th>County</th>\n",
       "      <th>State</th>\n",
       "      <th>Zipcode</th>\n",
       "      <th>Country</th>\n",
       "      <th>Timezone</th>\n",
       "      <th>Airport_Code</th>\n",
       "      <th>Weather_Timestamp</th>\n",
       "      <th>Temperature(F)</th>\n",
       "      <th>Wind_Chill(F)</th>\n",
       "      <th>Humidity(%)</th>\n",
       "      <th>Pressure(in)</th>\n",
       "      <th>Visibility(mi)</th>\n",
       "      <th>Wind_Direction</th>\n",
       "      <th>Wind_Speed(mph)</th>\n",
       "      <th>Precipitation(in)</th>\n",
       "      <th>Weather_Condition</th>\n",
       "      <th>Amenity</th>\n",
       "      <th>Bump</th>\n",
       "      <th>Crossing</th>\n",
       "      <th>Give_Way</th>\n",
       "      <th>Junction</th>\n",
       "      <th>No_Exit</th>\n",
       "      <th>Railway</th>\n",
       "      <th>Roundabout</th>\n",
       "      <th>Station</th>\n",
       "      <th>Stop</th>\n",
       "      <th>Traffic_Calming</th>\n",
       "      <th>Traffic_Signal</th>\n",
       "      <th>Turning_Loop</th>\n",
       "      <th>Sunrise_Sunset</th>\n",
       "      <th>Civil_Twilight</th>\n",
       "      <th>Nautical_Twilight</th>\n",
       "      <th>Astronomical_Twilight</th>\n",
       "    </tr>\n",
       "  </thead>\n",
       "  <tbody>\n",
       "    <tr>\n",
       "      <th>0</th>\n",
       "      <td>A-1</td>\n",
       "      <td>Source2</td>\n",
       "      <td>3</td>\n",
       "      <td>2016-02-08 05:46:00</td>\n",
       "      <td>2016-02-08 11:00:00</td>\n",
       "      <td>39.865147</td>\n",
       "      <td>-84.058723</td>\n",
       "      <td>NaN</td>\n",
       "      <td>NaN</td>\n",
       "      <td>0.01</td>\n",
       "      <td>Right lane blocked due to accident on I-70 Eas...</td>\n",
       "      <td>I-70 E</td>\n",
       "      <td>Dayton</td>\n",
       "      <td>Montgomery</td>\n",
       "      <td>OH</td>\n",
       "      <td>45424</td>\n",
       "      <td>US</td>\n",
       "      <td>US/Eastern</td>\n",
       "      <td>KFFO</td>\n",
       "      <td>2016-02-08 05:58:00</td>\n",
       "      <td>36.9</td>\n",
       "      <td>NaN</td>\n",
       "      <td>91.0</td>\n",
       "      <td>29.68</td>\n",
       "      <td>10.0</td>\n",
       "      <td>Calm</td>\n",
       "      <td>NaN</td>\n",
       "      <td>0.02</td>\n",
       "      <td>Light Rain</td>\n",
       "      <td>False</td>\n",
       "      <td>False</td>\n",
       "      <td>False</td>\n",
       "      <td>False</td>\n",
       "      <td>False</td>\n",
       "      <td>False</td>\n",
       "      <td>False</td>\n",
       "      <td>False</td>\n",
       "      <td>False</td>\n",
       "      <td>False</td>\n",
       "      <td>False</td>\n",
       "      <td>False</td>\n",
       "      <td>False</td>\n",
       "      <td>Night</td>\n",
       "      <td>Night</td>\n",
       "      <td>Night</td>\n",
       "      <td>Night</td>\n",
       "    </tr>\n",
       "    <tr>\n",
       "      <th>1</th>\n",
       "      <td>A-2</td>\n",
       "      <td>Source2</td>\n",
       "      <td>2</td>\n",
       "      <td>2016-02-08 06:07:59</td>\n",
       "      <td>2016-02-08 06:37:59</td>\n",
       "      <td>39.928059</td>\n",
       "      <td>-82.831184</td>\n",
       "      <td>NaN</td>\n",
       "      <td>NaN</td>\n",
       "      <td>0.01</td>\n",
       "      <td>Accident on Brice Rd at Tussing Rd. Expect del...</td>\n",
       "      <td>Brice Rd</td>\n",
       "      <td>Reynoldsburg</td>\n",
       "      <td>Franklin</td>\n",
       "      <td>OH</td>\n",
       "      <td>43068-3402</td>\n",
       "      <td>US</td>\n",
       "      <td>US/Eastern</td>\n",
       "      <td>KCMH</td>\n",
       "      <td>2016-02-08 05:51:00</td>\n",
       "      <td>37.9</td>\n",
       "      <td>NaN</td>\n",
       "      <td>100.0</td>\n",
       "      <td>29.65</td>\n",
       "      <td>10.0</td>\n",
       "      <td>Calm</td>\n",
       "      <td>NaN</td>\n",
       "      <td>0.00</td>\n",
       "      <td>Light Rain</td>\n",
       "      <td>False</td>\n",
       "      <td>False</td>\n",
       "      <td>False</td>\n",
       "      <td>False</td>\n",
       "      <td>False</td>\n",
       "      <td>False</td>\n",
       "      <td>False</td>\n",
       "      <td>False</td>\n",
       "      <td>False</td>\n",
       "      <td>False</td>\n",
       "      <td>False</td>\n",
       "      <td>False</td>\n",
       "      <td>False</td>\n",
       "      <td>Night</td>\n",
       "      <td>Night</td>\n",
       "      <td>Night</td>\n",
       "      <td>Day</td>\n",
       "    </tr>\n",
       "    <tr>\n",
       "      <th>2</th>\n",
       "      <td>A-3</td>\n",
       "      <td>Source2</td>\n",
       "      <td>2</td>\n",
       "      <td>2016-02-08 06:49:27</td>\n",
       "      <td>2016-02-08 07:19:27</td>\n",
       "      <td>39.063148</td>\n",
       "      <td>-84.032608</td>\n",
       "      <td>NaN</td>\n",
       "      <td>NaN</td>\n",
       "      <td>0.01</td>\n",
       "      <td>Accident on OH-32 State Route 32 Westbound at ...</td>\n",
       "      <td>State Route 32</td>\n",
       "      <td>Williamsburg</td>\n",
       "      <td>Clermont</td>\n",
       "      <td>OH</td>\n",
       "      <td>45176</td>\n",
       "      <td>US</td>\n",
       "      <td>US/Eastern</td>\n",
       "      <td>KI69</td>\n",
       "      <td>2016-02-08 06:56:00</td>\n",
       "      <td>36.0</td>\n",
       "      <td>33.3</td>\n",
       "      <td>100.0</td>\n",
       "      <td>29.67</td>\n",
       "      <td>10.0</td>\n",
       "      <td>SW</td>\n",
       "      <td>3.5</td>\n",
       "      <td>NaN</td>\n",
       "      <td>Overcast</td>\n",
       "      <td>False</td>\n",
       "      <td>False</td>\n",
       "      <td>False</td>\n",
       "      <td>False</td>\n",
       "      <td>False</td>\n",
       "      <td>False</td>\n",
       "      <td>False</td>\n",
       "      <td>False</td>\n",
       "      <td>False</td>\n",
       "      <td>False</td>\n",
       "      <td>False</td>\n",
       "      <td>True</td>\n",
       "      <td>False</td>\n",
       "      <td>Night</td>\n",
       "      <td>Night</td>\n",
       "      <td>Day</td>\n",
       "      <td>Day</td>\n",
       "    </tr>\n",
       "    <tr>\n",
       "      <th>3</th>\n",
       "      <td>A-4</td>\n",
       "      <td>Source2</td>\n",
       "      <td>3</td>\n",
       "      <td>2016-02-08 07:23:34</td>\n",
       "      <td>2016-02-08 07:53:34</td>\n",
       "      <td>39.747753</td>\n",
       "      <td>-84.205582</td>\n",
       "      <td>NaN</td>\n",
       "      <td>NaN</td>\n",
       "      <td>0.01</td>\n",
       "      <td>Accident on I-75 Southbound at Exits 52 52B US...</td>\n",
       "      <td>I-75 S</td>\n",
       "      <td>Dayton</td>\n",
       "      <td>Montgomery</td>\n",
       "      <td>OH</td>\n",
       "      <td>45417</td>\n",
       "      <td>US</td>\n",
       "      <td>US/Eastern</td>\n",
       "      <td>KDAY</td>\n",
       "      <td>2016-02-08 07:38:00</td>\n",
       "      <td>35.1</td>\n",
       "      <td>31.0</td>\n",
       "      <td>96.0</td>\n",
       "      <td>29.64</td>\n",
       "      <td>9.0</td>\n",
       "      <td>SW</td>\n",
       "      <td>4.6</td>\n",
       "      <td>NaN</td>\n",
       "      <td>Mostly Cloudy</td>\n",
       "      <td>False</td>\n",
       "      <td>False</td>\n",
       "      <td>False</td>\n",
       "      <td>False</td>\n",
       "      <td>False</td>\n",
       "      <td>False</td>\n",
       "      <td>False</td>\n",
       "      <td>False</td>\n",
       "      <td>False</td>\n",
       "      <td>False</td>\n",
       "      <td>False</td>\n",
       "      <td>False</td>\n",
       "      <td>False</td>\n",
       "      <td>Night</td>\n",
       "      <td>Day</td>\n",
       "      <td>Day</td>\n",
       "      <td>Day</td>\n",
       "    </tr>\n",
       "    <tr>\n",
       "      <th>4</th>\n",
       "      <td>A-5</td>\n",
       "      <td>Source2</td>\n",
       "      <td>2</td>\n",
       "      <td>2016-02-08 07:39:07</td>\n",
       "      <td>2016-02-08 08:09:07</td>\n",
       "      <td>39.627781</td>\n",
       "      <td>-84.188354</td>\n",
       "      <td>NaN</td>\n",
       "      <td>NaN</td>\n",
       "      <td>0.01</td>\n",
       "      <td>Accident on McEwen Rd at OH-725 Miamisburg Cen...</td>\n",
       "      <td>Miamisburg Centerville Rd</td>\n",
       "      <td>Dayton</td>\n",
       "      <td>Montgomery</td>\n",
       "      <td>OH</td>\n",
       "      <td>45459</td>\n",
       "      <td>US</td>\n",
       "      <td>US/Eastern</td>\n",
       "      <td>KMGY</td>\n",
       "      <td>2016-02-08 07:53:00</td>\n",
       "      <td>36.0</td>\n",
       "      <td>33.3</td>\n",
       "      <td>89.0</td>\n",
       "      <td>29.65</td>\n",
       "      <td>6.0</td>\n",
       "      <td>SW</td>\n",
       "      <td>3.5</td>\n",
       "      <td>NaN</td>\n",
       "      <td>Mostly Cloudy</td>\n",
       "      <td>False</td>\n",
       "      <td>False</td>\n",
       "      <td>False</td>\n",
       "      <td>False</td>\n",
       "      <td>False</td>\n",
       "      <td>False</td>\n",
       "      <td>False</td>\n",
       "      <td>False</td>\n",
       "      <td>False</td>\n",
       "      <td>False</td>\n",
       "      <td>False</td>\n",
       "      <td>True</td>\n",
       "      <td>False</td>\n",
       "      <td>Day</td>\n",
       "      <td>Day</td>\n",
       "      <td>Day</td>\n",
       "      <td>Day</td>\n",
       "    </tr>\n",
       "  </tbody>\n",
       "</table>\n",
       "</div>"
      ],
      "text/plain": [
       "    ID   Source  Severity           Start_Time             End_Time  \\\n",
       "0  A-1  Source2         3  2016-02-08 05:46:00  2016-02-08 11:00:00   \n",
       "1  A-2  Source2         2  2016-02-08 06:07:59  2016-02-08 06:37:59   \n",
       "2  A-3  Source2         2  2016-02-08 06:49:27  2016-02-08 07:19:27   \n",
       "3  A-4  Source2         3  2016-02-08 07:23:34  2016-02-08 07:53:34   \n",
       "4  A-5  Source2         2  2016-02-08 07:39:07  2016-02-08 08:09:07   \n",
       "\n",
       "   Start_Lat  Start_Lng  End_Lat  End_Lng  Distance(mi)  \\\n",
       "0  39.865147 -84.058723      NaN      NaN          0.01   \n",
       "1  39.928059 -82.831184      NaN      NaN          0.01   \n",
       "2  39.063148 -84.032608      NaN      NaN          0.01   \n",
       "3  39.747753 -84.205582      NaN      NaN          0.01   \n",
       "4  39.627781 -84.188354      NaN      NaN          0.01   \n",
       "\n",
       "                                         Description  \\\n",
       "0  Right lane blocked due to accident on I-70 Eas...   \n",
       "1  Accident on Brice Rd at Tussing Rd. Expect del...   \n",
       "2  Accident on OH-32 State Route 32 Westbound at ...   \n",
       "3  Accident on I-75 Southbound at Exits 52 52B US...   \n",
       "4  Accident on McEwen Rd at OH-725 Miamisburg Cen...   \n",
       "\n",
       "                      Street          City      County State     Zipcode  \\\n",
       "0                     I-70 E        Dayton  Montgomery    OH       45424   \n",
       "1                   Brice Rd  Reynoldsburg    Franklin    OH  43068-3402   \n",
       "2             State Route 32  Williamsburg    Clermont    OH       45176   \n",
       "3                     I-75 S        Dayton  Montgomery    OH       45417   \n",
       "4  Miamisburg Centerville Rd        Dayton  Montgomery    OH       45459   \n",
       "\n",
       "  Country    Timezone Airport_Code    Weather_Timestamp  Temperature(F)  \\\n",
       "0      US  US/Eastern         KFFO  2016-02-08 05:58:00            36.9   \n",
       "1      US  US/Eastern         KCMH  2016-02-08 05:51:00            37.9   \n",
       "2      US  US/Eastern         KI69  2016-02-08 06:56:00            36.0   \n",
       "3      US  US/Eastern         KDAY  2016-02-08 07:38:00            35.1   \n",
       "4      US  US/Eastern         KMGY  2016-02-08 07:53:00            36.0   \n",
       "\n",
       "   Wind_Chill(F)  Humidity(%)  Pressure(in)  Visibility(mi) Wind_Direction  \\\n",
       "0            NaN         91.0         29.68            10.0           Calm   \n",
       "1            NaN        100.0         29.65            10.0           Calm   \n",
       "2           33.3        100.0         29.67            10.0             SW   \n",
       "3           31.0         96.0         29.64             9.0             SW   \n",
       "4           33.3         89.0         29.65             6.0             SW   \n",
       "\n",
       "   Wind_Speed(mph)  Precipitation(in) Weather_Condition  Amenity   Bump  \\\n",
       "0              NaN               0.02        Light Rain    False  False   \n",
       "1              NaN               0.00        Light Rain    False  False   \n",
       "2              3.5                NaN          Overcast    False  False   \n",
       "3              4.6                NaN     Mostly Cloudy    False  False   \n",
       "4              3.5                NaN     Mostly Cloudy    False  False   \n",
       "\n",
       "   Crossing  Give_Way  Junction  No_Exit  Railway  Roundabout  Station   Stop  \\\n",
       "0     False     False     False    False    False       False    False  False   \n",
       "1     False     False     False    False    False       False    False  False   \n",
       "2     False     False     False    False    False       False    False  False   \n",
       "3     False     False     False    False    False       False    False  False   \n",
       "4     False     False     False    False    False       False    False  False   \n",
       "\n",
       "   Traffic_Calming  Traffic_Signal  Turning_Loop Sunrise_Sunset  \\\n",
       "0            False           False         False          Night   \n",
       "1            False           False         False          Night   \n",
       "2            False            True         False          Night   \n",
       "3            False           False         False          Night   \n",
       "4            False            True         False            Day   \n",
       "\n",
       "  Civil_Twilight Nautical_Twilight Astronomical_Twilight  \n",
       "0          Night             Night                 Night  \n",
       "1          Night             Night                   Day  \n",
       "2          Night               Day                   Day  \n",
       "3            Day               Day                   Day  \n",
       "4            Day               Day                   Day  "
      ]
     },
     "execution_count": 13,
     "metadata": {},
     "output_type": "execute_result"
    }
   ],
   "source": [
    "df.head()"
   ]
  },
  {
   "cell_type": "code",
   "execution_count": 16,
   "id": "a85437fd-1b26-4965-81db-976e5674c5f0",
   "metadata": {},
   "outputs": [
    {
     "data": {
      "text/plain": [
       "(7728394, 46)"
      ]
     },
     "execution_count": 16,
     "metadata": {},
     "output_type": "execute_result"
    }
   ],
   "source": [
    "df.shape"
   ]
  },
  {
   "cell_type": "code",
   "execution_count": 16,
   "id": "8e5fa640-c0cc-49e0-b772-89aca1241cb6",
   "metadata": {},
   "outputs": [
    {
     "data": {
      "text/html": [
       "<div>\n",
       "<style scoped>\n",
       "    .dataframe tbody tr th:only-of-type {\n",
       "        vertical-align: middle;\n",
       "    }\n",
       "\n",
       "    .dataframe tbody tr th {\n",
       "        vertical-align: top;\n",
       "    }\n",
       "\n",
       "    .dataframe thead th {\n",
       "        text-align: right;\n",
       "    }\n",
       "</style>\n",
       "<table border=\"1\" class=\"dataframe\">\n",
       "  <thead>\n",
       "    <tr style=\"text-align: right;\">\n",
       "      <th></th>\n",
       "      <th>ID</th>\n",
       "      <th>Source</th>\n",
       "      <th>Severity</th>\n",
       "      <th>Start_Time</th>\n",
       "      <th>End_Time</th>\n",
       "      <th>Start_Lat</th>\n",
       "      <th>Start_Lng</th>\n",
       "      <th>End_Lat</th>\n",
       "      <th>End_Lng</th>\n",
       "      <th>Distance(mi)</th>\n",
       "      <th>Description</th>\n",
       "      <th>Street</th>\n",
       "      <th>City</th>\n",
       "      <th>County</th>\n",
       "      <th>State</th>\n",
       "      <th>Zipcode</th>\n",
       "      <th>Country</th>\n",
       "      <th>Timezone</th>\n",
       "      <th>Airport_Code</th>\n",
       "      <th>Weather_Timestamp</th>\n",
       "      <th>Temperature(F)</th>\n",
       "      <th>Wind_Chill(F)</th>\n",
       "      <th>Humidity(%)</th>\n",
       "      <th>Pressure(in)</th>\n",
       "      <th>Visibility(mi)</th>\n",
       "      <th>Wind_Direction</th>\n",
       "      <th>Wind_Speed(mph)</th>\n",
       "      <th>Precipitation(in)</th>\n",
       "      <th>Weather_Condition</th>\n",
       "      <th>Amenity</th>\n",
       "      <th>Bump</th>\n",
       "      <th>Crossing</th>\n",
       "      <th>Give_Way</th>\n",
       "      <th>Junction</th>\n",
       "      <th>No_Exit</th>\n",
       "      <th>Railway</th>\n",
       "      <th>Roundabout</th>\n",
       "      <th>Station</th>\n",
       "      <th>Stop</th>\n",
       "      <th>Traffic_Calming</th>\n",
       "      <th>Traffic_Signal</th>\n",
       "      <th>Turning_Loop</th>\n",
       "      <th>Sunrise_Sunset</th>\n",
       "      <th>Civil_Twilight</th>\n",
       "      <th>Nautical_Twilight</th>\n",
       "      <th>Astronomical_Twilight</th>\n",
       "    </tr>\n",
       "  </thead>\n",
       "  <tbody>\n",
       "    <tr>\n",
       "      <th>count</th>\n",
       "      <td>7728394</td>\n",
       "      <td>7728394</td>\n",
       "      <td>7.728394e+06</td>\n",
       "      <td>7728394</td>\n",
       "      <td>7728394</td>\n",
       "      <td>7.728394e+06</td>\n",
       "      <td>7.728394e+06</td>\n",
       "      <td>4.325632e+06</td>\n",
       "      <td>4.325632e+06</td>\n",
       "      <td>7.728394e+06</td>\n",
       "      <td>7728389</td>\n",
       "      <td>7717525</td>\n",
       "      <td>7728141</td>\n",
       "      <td>7728394</td>\n",
       "      <td>7728394</td>\n",
       "      <td>7726479</td>\n",
       "      <td>7728394</td>\n",
       "      <td>7720586</td>\n",
       "      <td>7705759</td>\n",
       "      <td>7608166</td>\n",
       "      <td>7.564541e+06</td>\n",
       "      <td>5.729375e+06</td>\n",
       "      <td>7.554250e+06</td>\n",
       "      <td>7.587715e+06</td>\n",
       "      <td>7.551296e+06</td>\n",
       "      <td>7553188</td>\n",
       "      <td>7.157161e+06</td>\n",
       "      <td>5.524808e+06</td>\n",
       "      <td>7554935</td>\n",
       "      <td>7728394</td>\n",
       "      <td>7728394</td>\n",
       "      <td>7728394</td>\n",
       "      <td>7728394</td>\n",
       "      <td>7728394</td>\n",
       "      <td>7728394</td>\n",
       "      <td>7728394</td>\n",
       "      <td>7728394</td>\n",
       "      <td>7728394</td>\n",
       "      <td>7728394</td>\n",
       "      <td>7728394</td>\n",
       "      <td>7728394</td>\n",
       "      <td>7728394</td>\n",
       "      <td>7705148</td>\n",
       "      <td>7705148</td>\n",
       "      <td>7705148</td>\n",
       "      <td>7705148</td>\n",
       "    </tr>\n",
       "    <tr>\n",
       "      <th>unique</th>\n",
       "      <td>7728394</td>\n",
       "      <td>3</td>\n",
       "      <td>NaN</td>\n",
       "      <td>6131796</td>\n",
       "      <td>6705355</td>\n",
       "      <td>NaN</td>\n",
       "      <td>NaN</td>\n",
       "      <td>NaN</td>\n",
       "      <td>NaN</td>\n",
       "      <td>NaN</td>\n",
       "      <td>3761578</td>\n",
       "      <td>336306</td>\n",
       "      <td>13678</td>\n",
       "      <td>1871</td>\n",
       "      <td>49</td>\n",
       "      <td>825094</td>\n",
       "      <td>1</td>\n",
       "      <td>4</td>\n",
       "      <td>2045</td>\n",
       "      <td>941331</td>\n",
       "      <td>NaN</td>\n",
       "      <td>NaN</td>\n",
       "      <td>NaN</td>\n",
       "      <td>NaN</td>\n",
       "      <td>NaN</td>\n",
       "      <td>24</td>\n",
       "      <td>NaN</td>\n",
       "      <td>NaN</td>\n",
       "      <td>144</td>\n",
       "      <td>2</td>\n",
       "      <td>2</td>\n",
       "      <td>2</td>\n",
       "      <td>2</td>\n",
       "      <td>2</td>\n",
       "      <td>2</td>\n",
       "      <td>2</td>\n",
       "      <td>2</td>\n",
       "      <td>2</td>\n",
       "      <td>2</td>\n",
       "      <td>2</td>\n",
       "      <td>2</td>\n",
       "      <td>1</td>\n",
       "      <td>2</td>\n",
       "      <td>2</td>\n",
       "      <td>2</td>\n",
       "      <td>2</td>\n",
       "    </tr>\n",
       "    <tr>\n",
       "      <th>top</th>\n",
       "      <td>A-1</td>\n",
       "      <td>Source1</td>\n",
       "      <td>NaN</td>\n",
       "      <td>2021-01-26 16:16:13</td>\n",
       "      <td>2021-11-22 08:00:00</td>\n",
       "      <td>NaN</td>\n",
       "      <td>NaN</td>\n",
       "      <td>NaN</td>\n",
       "      <td>NaN</td>\n",
       "      <td>NaN</td>\n",
       "      <td>A crash has occurred causing no to minimum del...</td>\n",
       "      <td>I-95 N</td>\n",
       "      <td>Miami</td>\n",
       "      <td>Los Angeles</td>\n",
       "      <td>CA</td>\n",
       "      <td>91761</td>\n",
       "      <td>US</td>\n",
       "      <td>US/Eastern</td>\n",
       "      <td>KCQT</td>\n",
       "      <td>2022-03-13 01:53:00</td>\n",
       "      <td>NaN</td>\n",
       "      <td>NaN</td>\n",
       "      <td>NaN</td>\n",
       "      <td>NaN</td>\n",
       "      <td>NaN</td>\n",
       "      <td>CALM</td>\n",
       "      <td>NaN</td>\n",
       "      <td>NaN</td>\n",
       "      <td>Fair</td>\n",
       "      <td>False</td>\n",
       "      <td>False</td>\n",
       "      <td>False</td>\n",
       "      <td>False</td>\n",
       "      <td>False</td>\n",
       "      <td>False</td>\n",
       "      <td>False</td>\n",
       "      <td>False</td>\n",
       "      <td>False</td>\n",
       "      <td>False</td>\n",
       "      <td>False</td>\n",
       "      <td>False</td>\n",
       "      <td>False</td>\n",
       "      <td>Day</td>\n",
       "      <td>Day</td>\n",
       "      <td>Day</td>\n",
       "      <td>Day</td>\n",
       "    </tr>\n",
       "    <tr>\n",
       "      <th>freq</th>\n",
       "      <td>1</td>\n",
       "      <td>4325632</td>\n",
       "      <td>NaN</td>\n",
       "      <td>225</td>\n",
       "      <td>112</td>\n",
       "      <td>NaN</td>\n",
       "      <td>NaN</td>\n",
       "      <td>NaN</td>\n",
       "      <td>NaN</td>\n",
       "      <td>NaN</td>\n",
       "      <td>9593</td>\n",
       "      <td>78430</td>\n",
       "      <td>186917</td>\n",
       "      <td>526851</td>\n",
       "      <td>1741433</td>\n",
       "      <td>11247</td>\n",
       "      <td>7728394</td>\n",
       "      <td>3580167</td>\n",
       "      <td>118332</td>\n",
       "      <td>1311</td>\n",
       "      <td>NaN</td>\n",
       "      <td>NaN</td>\n",
       "      <td>NaN</td>\n",
       "      <td>NaN</td>\n",
       "      <td>NaN</td>\n",
       "      <td>961624</td>\n",
       "      <td>NaN</td>\n",
       "      <td>NaN</td>\n",
       "      <td>2560802</td>\n",
       "      <td>7632060</td>\n",
       "      <td>7724880</td>\n",
       "      <td>6854631</td>\n",
       "      <td>7691812</td>\n",
       "      <td>7157052</td>\n",
       "      <td>7708849</td>\n",
       "      <td>7661415</td>\n",
       "      <td>7728145</td>\n",
       "      <td>7526493</td>\n",
       "      <td>7514023</td>\n",
       "      <td>7720796</td>\n",
       "      <td>6584622</td>\n",
       "      <td>7728394</td>\n",
       "      <td>5334553</td>\n",
       "      <td>5695619</td>\n",
       "      <td>6076156</td>\n",
       "      <td>6377548</td>\n",
       "    </tr>\n",
       "    <tr>\n",
       "      <th>mean</th>\n",
       "      <td>NaN</td>\n",
       "      <td>NaN</td>\n",
       "      <td>2.212384e+00</td>\n",
       "      <td>NaN</td>\n",
       "      <td>NaN</td>\n",
       "      <td>3.620119e+01</td>\n",
       "      <td>-9.470255e+01</td>\n",
       "      <td>3.626183e+01</td>\n",
       "      <td>-9.572557e+01</td>\n",
       "      <td>5.618423e-01</td>\n",
       "      <td>NaN</td>\n",
       "      <td>NaN</td>\n",
       "      <td>NaN</td>\n",
       "      <td>NaN</td>\n",
       "      <td>NaN</td>\n",
       "      <td>NaN</td>\n",
       "      <td>NaN</td>\n",
       "      <td>NaN</td>\n",
       "      <td>NaN</td>\n",
       "      <td>NaN</td>\n",
       "      <td>6.166329e+01</td>\n",
       "      <td>5.825105e+01</td>\n",
       "      <td>6.483104e+01</td>\n",
       "      <td>2.953899e+01</td>\n",
       "      <td>9.090376e+00</td>\n",
       "      <td>NaN</td>\n",
       "      <td>7.685490e+00</td>\n",
       "      <td>8.407210e-03</td>\n",
       "      <td>NaN</td>\n",
       "      <td>NaN</td>\n",
       "      <td>NaN</td>\n",
       "      <td>NaN</td>\n",
       "      <td>NaN</td>\n",
       "      <td>NaN</td>\n",
       "      <td>NaN</td>\n",
       "      <td>NaN</td>\n",
       "      <td>NaN</td>\n",
       "      <td>NaN</td>\n",
       "      <td>NaN</td>\n",
       "      <td>NaN</td>\n",
       "      <td>NaN</td>\n",
       "      <td>NaN</td>\n",
       "      <td>NaN</td>\n",
       "      <td>NaN</td>\n",
       "      <td>NaN</td>\n",
       "      <td>NaN</td>\n",
       "    </tr>\n",
       "    <tr>\n",
       "      <th>std</th>\n",
       "      <td>NaN</td>\n",
       "      <td>NaN</td>\n",
       "      <td>4.875313e-01</td>\n",
       "      <td>NaN</td>\n",
       "      <td>NaN</td>\n",
       "      <td>5.076079e+00</td>\n",
       "      <td>1.739176e+01</td>\n",
       "      <td>5.272905e+00</td>\n",
       "      <td>1.810793e+01</td>\n",
       "      <td>1.776811e+00</td>\n",
       "      <td>NaN</td>\n",
       "      <td>NaN</td>\n",
       "      <td>NaN</td>\n",
       "      <td>NaN</td>\n",
       "      <td>NaN</td>\n",
       "      <td>NaN</td>\n",
       "      <td>NaN</td>\n",
       "      <td>NaN</td>\n",
       "      <td>NaN</td>\n",
       "      <td>NaN</td>\n",
       "      <td>1.901365e+01</td>\n",
       "      <td>2.238983e+01</td>\n",
       "      <td>2.282097e+01</td>\n",
       "      <td>1.006190e+00</td>\n",
       "      <td>2.688316e+00</td>\n",
       "      <td>NaN</td>\n",
       "      <td>5.424983e+00</td>\n",
       "      <td>1.102246e-01</td>\n",
       "      <td>NaN</td>\n",
       "      <td>NaN</td>\n",
       "      <td>NaN</td>\n",
       "      <td>NaN</td>\n",
       "      <td>NaN</td>\n",
       "      <td>NaN</td>\n",
       "      <td>NaN</td>\n",
       "      <td>NaN</td>\n",
       "      <td>NaN</td>\n",
       "      <td>NaN</td>\n",
       "      <td>NaN</td>\n",
       "      <td>NaN</td>\n",
       "      <td>NaN</td>\n",
       "      <td>NaN</td>\n",
       "      <td>NaN</td>\n",
       "      <td>NaN</td>\n",
       "      <td>NaN</td>\n",
       "      <td>NaN</td>\n",
       "    </tr>\n",
       "    <tr>\n",
       "      <th>min</th>\n",
       "      <td>NaN</td>\n",
       "      <td>NaN</td>\n",
       "      <td>1.000000e+00</td>\n",
       "      <td>NaN</td>\n",
       "      <td>NaN</td>\n",
       "      <td>2.455480e+01</td>\n",
       "      <td>-1.246238e+02</td>\n",
       "      <td>2.456601e+01</td>\n",
       "      <td>-1.245457e+02</td>\n",
       "      <td>0.000000e+00</td>\n",
       "      <td>NaN</td>\n",
       "      <td>NaN</td>\n",
       "      <td>NaN</td>\n",
       "      <td>NaN</td>\n",
       "      <td>NaN</td>\n",
       "      <td>NaN</td>\n",
       "      <td>NaN</td>\n",
       "      <td>NaN</td>\n",
       "      <td>NaN</td>\n",
       "      <td>NaN</td>\n",
       "      <td>-8.900000e+01</td>\n",
       "      <td>-8.900000e+01</td>\n",
       "      <td>1.000000e+00</td>\n",
       "      <td>0.000000e+00</td>\n",
       "      <td>0.000000e+00</td>\n",
       "      <td>NaN</td>\n",
       "      <td>0.000000e+00</td>\n",
       "      <td>0.000000e+00</td>\n",
       "      <td>NaN</td>\n",
       "      <td>NaN</td>\n",
       "      <td>NaN</td>\n",
       "      <td>NaN</td>\n",
       "      <td>NaN</td>\n",
       "      <td>NaN</td>\n",
       "      <td>NaN</td>\n",
       "      <td>NaN</td>\n",
       "      <td>NaN</td>\n",
       "      <td>NaN</td>\n",
       "      <td>NaN</td>\n",
       "      <td>NaN</td>\n",
       "      <td>NaN</td>\n",
       "      <td>NaN</td>\n",
       "      <td>NaN</td>\n",
       "      <td>NaN</td>\n",
       "      <td>NaN</td>\n",
       "      <td>NaN</td>\n",
       "    </tr>\n",
       "    <tr>\n",
       "      <th>25%</th>\n",
       "      <td>NaN</td>\n",
       "      <td>NaN</td>\n",
       "      <td>2.000000e+00</td>\n",
       "      <td>NaN</td>\n",
       "      <td>NaN</td>\n",
       "      <td>3.339963e+01</td>\n",
       "      <td>-1.172194e+02</td>\n",
       "      <td>3.346207e+01</td>\n",
       "      <td>-1.177543e+02</td>\n",
       "      <td>0.000000e+00</td>\n",
       "      <td>NaN</td>\n",
       "      <td>NaN</td>\n",
       "      <td>NaN</td>\n",
       "      <td>NaN</td>\n",
       "      <td>NaN</td>\n",
       "      <td>NaN</td>\n",
       "      <td>NaN</td>\n",
       "      <td>NaN</td>\n",
       "      <td>NaN</td>\n",
       "      <td>NaN</td>\n",
       "      <td>4.900000e+01</td>\n",
       "      <td>4.300000e+01</td>\n",
       "      <td>4.800000e+01</td>\n",
       "      <td>2.937000e+01</td>\n",
       "      <td>1.000000e+01</td>\n",
       "      <td>NaN</td>\n",
       "      <td>4.600000e+00</td>\n",
       "      <td>0.000000e+00</td>\n",
       "      <td>NaN</td>\n",
       "      <td>NaN</td>\n",
       "      <td>NaN</td>\n",
       "      <td>NaN</td>\n",
       "      <td>NaN</td>\n",
       "      <td>NaN</td>\n",
       "      <td>NaN</td>\n",
       "      <td>NaN</td>\n",
       "      <td>NaN</td>\n",
       "      <td>NaN</td>\n",
       "      <td>NaN</td>\n",
       "      <td>NaN</td>\n",
       "      <td>NaN</td>\n",
       "      <td>NaN</td>\n",
       "      <td>NaN</td>\n",
       "      <td>NaN</td>\n",
       "      <td>NaN</td>\n",
       "      <td>NaN</td>\n",
       "    </tr>\n",
       "    <tr>\n",
       "      <th>50%</th>\n",
       "      <td>NaN</td>\n",
       "      <td>NaN</td>\n",
       "      <td>2.000000e+00</td>\n",
       "      <td>NaN</td>\n",
       "      <td>NaN</td>\n",
       "      <td>3.582397e+01</td>\n",
       "      <td>-8.776662e+01</td>\n",
       "      <td>3.618349e+01</td>\n",
       "      <td>-8.802789e+01</td>\n",
       "      <td>3.000000e-02</td>\n",
       "      <td>NaN</td>\n",
       "      <td>NaN</td>\n",
       "      <td>NaN</td>\n",
       "      <td>NaN</td>\n",
       "      <td>NaN</td>\n",
       "      <td>NaN</td>\n",
       "      <td>NaN</td>\n",
       "      <td>NaN</td>\n",
       "      <td>NaN</td>\n",
       "      <td>NaN</td>\n",
       "      <td>6.400000e+01</td>\n",
       "      <td>6.200000e+01</td>\n",
       "      <td>6.700000e+01</td>\n",
       "      <td>2.986000e+01</td>\n",
       "      <td>1.000000e+01</td>\n",
       "      <td>NaN</td>\n",
       "      <td>7.000000e+00</td>\n",
       "      <td>0.000000e+00</td>\n",
       "      <td>NaN</td>\n",
       "      <td>NaN</td>\n",
       "      <td>NaN</td>\n",
       "      <td>NaN</td>\n",
       "      <td>NaN</td>\n",
       "      <td>NaN</td>\n",
       "      <td>NaN</td>\n",
       "      <td>NaN</td>\n",
       "      <td>NaN</td>\n",
       "      <td>NaN</td>\n",
       "      <td>NaN</td>\n",
       "      <td>NaN</td>\n",
       "      <td>NaN</td>\n",
       "      <td>NaN</td>\n",
       "      <td>NaN</td>\n",
       "      <td>NaN</td>\n",
       "      <td>NaN</td>\n",
       "      <td>NaN</td>\n",
       "    </tr>\n",
       "    <tr>\n",
       "      <th>75%</th>\n",
       "      <td>NaN</td>\n",
       "      <td>NaN</td>\n",
       "      <td>2.000000e+00</td>\n",
       "      <td>NaN</td>\n",
       "      <td>NaN</td>\n",
       "      <td>4.008496e+01</td>\n",
       "      <td>-8.035368e+01</td>\n",
       "      <td>4.017892e+01</td>\n",
       "      <td>-8.024709e+01</td>\n",
       "      <td>4.640000e-01</td>\n",
       "      <td>NaN</td>\n",
       "      <td>NaN</td>\n",
       "      <td>NaN</td>\n",
       "      <td>NaN</td>\n",
       "      <td>NaN</td>\n",
       "      <td>NaN</td>\n",
       "      <td>NaN</td>\n",
       "      <td>NaN</td>\n",
       "      <td>NaN</td>\n",
       "      <td>NaN</td>\n",
       "      <td>7.600000e+01</td>\n",
       "      <td>7.500000e+01</td>\n",
       "      <td>8.400000e+01</td>\n",
       "      <td>3.003000e+01</td>\n",
       "      <td>1.000000e+01</td>\n",
       "      <td>NaN</td>\n",
       "      <td>1.040000e+01</td>\n",
       "      <td>0.000000e+00</td>\n",
       "      <td>NaN</td>\n",
       "      <td>NaN</td>\n",
       "      <td>NaN</td>\n",
       "      <td>NaN</td>\n",
       "      <td>NaN</td>\n",
       "      <td>NaN</td>\n",
       "      <td>NaN</td>\n",
       "      <td>NaN</td>\n",
       "      <td>NaN</td>\n",
       "      <td>NaN</td>\n",
       "      <td>NaN</td>\n",
       "      <td>NaN</td>\n",
       "      <td>NaN</td>\n",
       "      <td>NaN</td>\n",
       "      <td>NaN</td>\n",
       "      <td>NaN</td>\n",
       "      <td>NaN</td>\n",
       "      <td>NaN</td>\n",
       "    </tr>\n",
       "    <tr>\n",
       "      <th>max</th>\n",
       "      <td>NaN</td>\n",
       "      <td>NaN</td>\n",
       "      <td>4.000000e+00</td>\n",
       "      <td>NaN</td>\n",
       "      <td>NaN</td>\n",
       "      <td>4.900220e+01</td>\n",
       "      <td>-6.711317e+01</td>\n",
       "      <td>4.907500e+01</td>\n",
       "      <td>-6.710924e+01</td>\n",
       "      <td>4.417500e+02</td>\n",
       "      <td>NaN</td>\n",
       "      <td>NaN</td>\n",
       "      <td>NaN</td>\n",
       "      <td>NaN</td>\n",
       "      <td>NaN</td>\n",
       "      <td>NaN</td>\n",
       "      <td>NaN</td>\n",
       "      <td>NaN</td>\n",
       "      <td>NaN</td>\n",
       "      <td>NaN</td>\n",
       "      <td>2.070000e+02</td>\n",
       "      <td>2.070000e+02</td>\n",
       "      <td>1.000000e+02</td>\n",
       "      <td>5.863000e+01</td>\n",
       "      <td>1.400000e+02</td>\n",
       "      <td>NaN</td>\n",
       "      <td>1.087000e+03</td>\n",
       "      <td>3.647000e+01</td>\n",
       "      <td>NaN</td>\n",
       "      <td>NaN</td>\n",
       "      <td>NaN</td>\n",
       "      <td>NaN</td>\n",
       "      <td>NaN</td>\n",
       "      <td>NaN</td>\n",
       "      <td>NaN</td>\n",
       "      <td>NaN</td>\n",
       "      <td>NaN</td>\n",
       "      <td>NaN</td>\n",
       "      <td>NaN</td>\n",
       "      <td>NaN</td>\n",
       "      <td>NaN</td>\n",
       "      <td>NaN</td>\n",
       "      <td>NaN</td>\n",
       "      <td>NaN</td>\n",
       "      <td>NaN</td>\n",
       "      <td>NaN</td>\n",
       "    </tr>\n",
       "  </tbody>\n",
       "</table>\n",
       "</div>"
      ],
      "text/plain": [
       "             ID   Source      Severity           Start_Time  \\\n",
       "count   7728394  7728394  7.728394e+06              7728394   \n",
       "unique  7728394        3           NaN              6131796   \n",
       "top         A-1  Source1           NaN  2021-01-26 16:16:13   \n",
       "freq          1  4325632           NaN                  225   \n",
       "mean        NaN      NaN  2.212384e+00                  NaN   \n",
       "std         NaN      NaN  4.875313e-01                  NaN   \n",
       "min         NaN      NaN  1.000000e+00                  NaN   \n",
       "25%         NaN      NaN  2.000000e+00                  NaN   \n",
       "50%         NaN      NaN  2.000000e+00                  NaN   \n",
       "75%         NaN      NaN  2.000000e+00                  NaN   \n",
       "max         NaN      NaN  4.000000e+00                  NaN   \n",
       "\n",
       "                   End_Time     Start_Lat     Start_Lng       End_Lat  \\\n",
       "count               7728394  7.728394e+06  7.728394e+06  4.325632e+06   \n",
       "unique              6705355           NaN           NaN           NaN   \n",
       "top     2021-11-22 08:00:00           NaN           NaN           NaN   \n",
       "freq                    112           NaN           NaN           NaN   \n",
       "mean                    NaN  3.620119e+01 -9.470255e+01  3.626183e+01   \n",
       "std                     NaN  5.076079e+00  1.739176e+01  5.272905e+00   \n",
       "min                     NaN  2.455480e+01 -1.246238e+02  2.456601e+01   \n",
       "25%                     NaN  3.339963e+01 -1.172194e+02  3.346207e+01   \n",
       "50%                     NaN  3.582397e+01 -8.776662e+01  3.618349e+01   \n",
       "75%                     NaN  4.008496e+01 -8.035368e+01  4.017892e+01   \n",
       "max                     NaN  4.900220e+01 -6.711317e+01  4.907500e+01   \n",
       "\n",
       "             End_Lng  Distance(mi)  \\\n",
       "count   4.325632e+06  7.728394e+06   \n",
       "unique           NaN           NaN   \n",
       "top              NaN           NaN   \n",
       "freq             NaN           NaN   \n",
       "mean   -9.572557e+01  5.618423e-01   \n",
       "std     1.810793e+01  1.776811e+00   \n",
       "min    -1.245457e+02  0.000000e+00   \n",
       "25%    -1.177543e+02  0.000000e+00   \n",
       "50%    -8.802789e+01  3.000000e-02   \n",
       "75%    -8.024709e+01  4.640000e-01   \n",
       "max    -6.710924e+01  4.417500e+02   \n",
       "\n",
       "                                              Description   Street     City  \\\n",
       "count                                             7728389  7717525  7728141   \n",
       "unique                                            3761578   336306    13678   \n",
       "top     A crash has occurred causing no to minimum del...   I-95 N    Miami   \n",
       "freq                                                 9593    78430   186917   \n",
       "mean                                                  NaN      NaN      NaN   \n",
       "std                                                   NaN      NaN      NaN   \n",
       "min                                                   NaN      NaN      NaN   \n",
       "25%                                                   NaN      NaN      NaN   \n",
       "50%                                                   NaN      NaN      NaN   \n",
       "75%                                                   NaN      NaN      NaN   \n",
       "max                                                   NaN      NaN      NaN   \n",
       "\n",
       "             County    State  Zipcode  Country    Timezone Airport_Code  \\\n",
       "count       7728394  7728394  7726479  7728394     7720586      7705759   \n",
       "unique         1871       49   825094        1           4         2045   \n",
       "top     Los Angeles       CA    91761       US  US/Eastern         KCQT   \n",
       "freq         526851  1741433    11247  7728394     3580167       118332   \n",
       "mean            NaN      NaN      NaN      NaN         NaN          NaN   \n",
       "std             NaN      NaN      NaN      NaN         NaN          NaN   \n",
       "min             NaN      NaN      NaN      NaN         NaN          NaN   \n",
       "25%             NaN      NaN      NaN      NaN         NaN          NaN   \n",
       "50%             NaN      NaN      NaN      NaN         NaN          NaN   \n",
       "75%             NaN      NaN      NaN      NaN         NaN          NaN   \n",
       "max             NaN      NaN      NaN      NaN         NaN          NaN   \n",
       "\n",
       "          Weather_Timestamp  Temperature(F)  Wind_Chill(F)   Humidity(%)  \\\n",
       "count               7608166    7.564541e+06   5.729375e+06  7.554250e+06   \n",
       "unique               941331             NaN            NaN           NaN   \n",
       "top     2022-03-13 01:53:00             NaN            NaN           NaN   \n",
       "freq                   1311             NaN            NaN           NaN   \n",
       "mean                    NaN    6.166329e+01   5.825105e+01  6.483104e+01   \n",
       "std                     NaN    1.901365e+01   2.238983e+01  2.282097e+01   \n",
       "min                     NaN   -8.900000e+01  -8.900000e+01  1.000000e+00   \n",
       "25%                     NaN    4.900000e+01   4.300000e+01  4.800000e+01   \n",
       "50%                     NaN    6.400000e+01   6.200000e+01  6.700000e+01   \n",
       "75%                     NaN    7.600000e+01   7.500000e+01  8.400000e+01   \n",
       "max                     NaN    2.070000e+02   2.070000e+02  1.000000e+02   \n",
       "\n",
       "        Pressure(in)  Visibility(mi) Wind_Direction  Wind_Speed(mph)  \\\n",
       "count   7.587715e+06    7.551296e+06        7553188     7.157161e+06   \n",
       "unique           NaN             NaN             24              NaN   \n",
       "top              NaN             NaN           CALM              NaN   \n",
       "freq             NaN             NaN         961624              NaN   \n",
       "mean    2.953899e+01    9.090376e+00            NaN     7.685490e+00   \n",
       "std     1.006190e+00    2.688316e+00            NaN     5.424983e+00   \n",
       "min     0.000000e+00    0.000000e+00            NaN     0.000000e+00   \n",
       "25%     2.937000e+01    1.000000e+01            NaN     4.600000e+00   \n",
       "50%     2.986000e+01    1.000000e+01            NaN     7.000000e+00   \n",
       "75%     3.003000e+01    1.000000e+01            NaN     1.040000e+01   \n",
       "max     5.863000e+01    1.400000e+02            NaN     1.087000e+03   \n",
       "\n",
       "        Precipitation(in) Weather_Condition  Amenity     Bump Crossing  \\\n",
       "count        5.524808e+06           7554935  7728394  7728394  7728394   \n",
       "unique                NaN               144        2        2        2   \n",
       "top                   NaN              Fair    False    False    False   \n",
       "freq                  NaN           2560802  7632060  7724880  6854631   \n",
       "mean         8.407210e-03               NaN      NaN      NaN      NaN   \n",
       "std          1.102246e-01               NaN      NaN      NaN      NaN   \n",
       "min          0.000000e+00               NaN      NaN      NaN      NaN   \n",
       "25%          0.000000e+00               NaN      NaN      NaN      NaN   \n",
       "50%          0.000000e+00               NaN      NaN      NaN      NaN   \n",
       "75%          0.000000e+00               NaN      NaN      NaN      NaN   \n",
       "max          3.647000e+01               NaN      NaN      NaN      NaN   \n",
       "\n",
       "       Give_Way Junction  No_Exit  Railway Roundabout  Station     Stop  \\\n",
       "count   7728394  7728394  7728394  7728394    7728394  7728394  7728394   \n",
       "unique        2        2        2        2          2        2        2   \n",
       "top       False    False    False    False      False    False    False   \n",
       "freq    7691812  7157052  7708849  7661415    7728145  7526493  7514023   \n",
       "mean        NaN      NaN      NaN      NaN        NaN      NaN      NaN   \n",
       "std         NaN      NaN      NaN      NaN        NaN      NaN      NaN   \n",
       "min         NaN      NaN      NaN      NaN        NaN      NaN      NaN   \n",
       "25%         NaN      NaN      NaN      NaN        NaN      NaN      NaN   \n",
       "50%         NaN      NaN      NaN      NaN        NaN      NaN      NaN   \n",
       "75%         NaN      NaN      NaN      NaN        NaN      NaN      NaN   \n",
       "max         NaN      NaN      NaN      NaN        NaN      NaN      NaN   \n",
       "\n",
       "       Traffic_Calming Traffic_Signal Turning_Loop Sunrise_Sunset  \\\n",
       "count          7728394        7728394      7728394        7705148   \n",
       "unique               2              2            1              2   \n",
       "top              False          False        False            Day   \n",
       "freq           7720796        6584622      7728394        5334553   \n",
       "mean               NaN            NaN          NaN            NaN   \n",
       "std                NaN            NaN          NaN            NaN   \n",
       "min                NaN            NaN          NaN            NaN   \n",
       "25%                NaN            NaN          NaN            NaN   \n",
       "50%                NaN            NaN          NaN            NaN   \n",
       "75%                NaN            NaN          NaN            NaN   \n",
       "max                NaN            NaN          NaN            NaN   \n",
       "\n",
       "       Civil_Twilight Nautical_Twilight Astronomical_Twilight  \n",
       "count         7705148           7705148               7705148  \n",
       "unique              2                 2                     2  \n",
       "top               Day               Day                   Day  \n",
       "freq          5695619           6076156               6377548  \n",
       "mean              NaN               NaN                   NaN  \n",
       "std               NaN               NaN                   NaN  \n",
       "min               NaN               NaN                   NaN  \n",
       "25%               NaN               NaN                   NaN  \n",
       "50%               NaN               NaN                   NaN  \n",
       "75%               NaN               NaN                   NaN  \n",
       "max               NaN               NaN                   NaN  "
      ]
     },
     "execution_count": 16,
     "metadata": {},
     "output_type": "execute_result"
    }
   ],
   "source": [
    "df.describe(include = 'all')"
   ]
  },
  {
   "cell_type": "markdown",
   "id": "0b3bcdbf-358b-4deb-8a0e-dead24beae8f",
   "metadata": {},
   "source": [
    "<h1> 1. Data Cleaning - US Accidents Data </h1>"
   ]
  },
  {
   "cell_type": "markdown",
   "id": "a884f805-12c3-4cce-b7b6-08e703f916bd",
   "metadata": {},
   "source": [
    "<h3> Droppings Irrelavant Columns </h3>"
   ]
  },
  {
   "cell_type": "code",
   "execution_count": 18,
   "id": "a1ba9229-9c6b-41d3-8a5a-3a888eefdfe2",
   "metadata": {},
   "outputs": [],
   "source": [
    "df = df.drop(columns = [\"ID\", \"Source\", \"Country\",\"Timezone\",\"Civil_Twilight\", \"Nautical_Twilight\", \"Astronomical_Twilight\", \"Weather_Timestamp\", \"County\", \"End_Lat\", \"End_Lng\", \"Wind_Direction\"])"
   ]
  },
  {
   "cell_type": "markdown",
   "id": "69c2f84b-f2da-4481-9e33-90650198cede",
   "metadata": {},
   "source": [
    "<p> Checking Turning_Loop Column </p>"
   ]
  },
  {
   "cell_type": "code",
   "execution_count": 17,
   "id": "27f3f069-2ac8-4e04-924d-76382b2eb73b",
   "metadata": {},
   "outputs": [
    {
     "data": {
      "text/plain": [
       "Turning_Loop\n",
       "False    7728394\n",
       "Name: count, dtype: int64"
      ]
     },
     "execution_count": 17,
     "metadata": {},
     "output_type": "execute_result"
    }
   ],
   "source": [
    "df[\"Turning_Loop\"].value_counts()"
   ]
  },
  {
   "cell_type": "markdown",
   "id": "a56366b2-dd42-474d-a189-246f91b09d7f",
   "metadata": {},
   "source": [
    "<p> Since every record has the same value, the columns is dropped</p>"
   ]
  },
  {
   "cell_type": "code",
   "execution_count": 20,
   "id": "844ca5dc-1113-409b-a941-2cd43a621e57",
   "metadata": {},
   "outputs": [],
   "source": [
    "df = df.drop(columns=[\"Turning_Loop\"])"
   ]
  },
  {
   "cell_type": "code",
   "execution_count": 21,
   "id": "9cf56e28-dce7-4698-b060-6de74f29b7dc",
   "metadata": {},
   "outputs": [
    {
     "data": {
      "text/plain": [
       "(7728394, 33)"
      ]
     },
     "execution_count": 21,
     "metadata": {},
     "output_type": "execute_result"
    }
   ],
   "source": [
    "df.shape"
   ]
  },
  {
   "cell_type": "code",
   "execution_count": 24,
   "id": "9799eecc-1d72-43f1-aea3-69c2740ae9db",
   "metadata": {},
   "outputs": [],
   "source": [
    "numeric_features = ['Start_Lat', 'Start_Lng',\n",
    "       'Distance(mi)','Temperature(F)', 'Wind_Chill(F)', 'Humidity(%)',\n",
    "       'Pressure(in)', 'Visibility(mi)', 'Wind_Speed(mph)',\n",
    "       'Precipitation(in)']"
   ]
  },
  {
   "cell_type": "code",
   "execution_count": 26,
   "id": "e98ad777-53f8-4cdc-9258-c1180e94613a",
   "metadata": {},
   "outputs": [
    {
     "data": {
      "image/png": "[encoded data removed]",
      "text/plain": [
       "<Figure size 1000x600 with 2 Axes>"
      ]
     },
     "metadata": {},
     "output_type": "display_data"
    }
   ],
   "source": [
    "correlations = df[numeric_features + ['Severity']].corr()\n",
    "\n",
    "# Heatmap of correlations\n",
    "plt.figure(figsize=(10, 6))\n",
    "sns.heatmap(correlations, annot=True, cmap='coolwarm')\n",
    "plt.title('Correlation Matrix')\n",
    "plt.gcf().savefig(\"Feature_Correlation.png\")\n",
    "plt.show()"
   ]
  },
  {
   "cell_type": "code",
   "execution_count": 41,
   "id": "ac9405ce-1a70-44c6-9f62-7d5a9af7bc16",
   "metadata": {},
   "outputs": [
    {
     "data": {
      "text/html": [
       "<div>\n",
       "<style scoped>\n",
       "    .dataframe tbody tr th:only-of-type {\n",
       "        vertical-align: middle;\n",
       "    }\n",
       "\n",
       "    .dataframe tbody tr th {\n",
       "        vertical-align: top;\n",
       "    }\n",
       "\n",
       "    .dataframe thead th {\n",
       "        text-align: right;\n",
       "    }\n",
       "</style>\n",
       "<table border=\"1\" class=\"dataframe\">\n",
       "  <thead>\n",
       "    <tr style=\"text-align: right;\">\n",
       "      <th></th>\n",
       "      <th>Start_Lat</th>\n",
       "      <th>Start_Lng</th>\n",
       "      <th>Distance(mi)</th>\n",
       "      <th>Temperature(F)</th>\n",
       "      <th>Wind_Chill(F)</th>\n",
       "      <th>Humidity(%)</th>\n",
       "      <th>Pressure(in)</th>\n",
       "      <th>Visibility(mi)</th>\n",
       "      <th>Wind_Speed(mph)</th>\n",
       "      <th>Precipitation(in)</th>\n",
       "      <th>Severity</th>\n",
       "    </tr>\n",
       "  </thead>\n",
       "  <tbody>\n",
       "    <tr>\n",
       "      <th>Start_Lat</th>\n",
       "      <td>1.000000</td>\n",
       "      <td>-0.067720</td>\n",
       "      <td>0.064064</td>\n",
       "      <td>-0.443781</td>\n",
       "      <td>-0.480296</td>\n",
       "      <td>0.022364</td>\n",
       "      <td>-0.194094</td>\n",
       "      <td>-0.088500</td>\n",
       "      <td>0.032908</td>\n",
       "      <td>0.000279</td>\n",
       "      <td>0.069060</td>\n",
       "    </tr>\n",
       "    <tr>\n",
       "      <th>Start_Lng</th>\n",
       "      <td>-0.067720</td>\n",
       "      <td>1.000000</td>\n",
       "      <td>0.007851</td>\n",
       "      <td>-0.010652</td>\n",
       "      <td>-0.031810</td>\n",
       "      <td>0.179500</td>\n",
       "      <td>0.193185</td>\n",
       "      <td>-0.015322</td>\n",
       "      <td>0.077353</td>\n",
       "      <td>0.027619</td>\n",
       "      <td>0.052862</td>\n",
       "    </tr>\n",
       "    <tr>\n",
       "      <th>Distance(mi)</th>\n",
       "      <td>0.064064</td>\n",
       "      <td>0.007851</td>\n",
       "      <td>1.000000</td>\n",
       "      <td>-0.054082</td>\n",
       "      <td>-0.044309</td>\n",
       "      <td>0.008780</td>\n",
       "      <td>-0.093121</td>\n",
       "      <td>-0.037225</td>\n",
       "      <td>0.008989</td>\n",
       "      <td>-0.001480</td>\n",
       "      <td>0.034787</td>\n",
       "    </tr>\n",
       "    <tr>\n",
       "      <th>Temperature(F)</th>\n",
       "      <td>-0.443781</td>\n",
       "      <td>-0.010652</td>\n",
       "      <td>-0.054082</td>\n",
       "      <td>1.000000</td>\n",
       "      <td>0.993744</td>\n",
       "      <td>-0.330939</td>\n",
       "      <td>0.109500</td>\n",
       "      <td>0.217173</td>\n",
       "      <td>0.033750</td>\n",
       "      <td>-0.004633</td>\n",
       "      <td>-0.020327</td>\n",
       "    </tr>\n",
       "    <tr>\n",
       "      <th>Wind_Chill(F)</th>\n",
       "      <td>-0.480296</td>\n",
       "      <td>-0.031810</td>\n",
       "      <td>-0.044309</td>\n",
       "      <td>0.993744</td>\n",
       "      <td>1.000000</td>\n",
       "      <td>-0.314731</td>\n",
       "      <td>0.086598</td>\n",
       "      <td>0.234022</td>\n",
       "      <td>-0.043008</td>\n",
       "      <td>-0.012143</td>\n",
       "      <td>-0.070039</td>\n",
       "    </tr>\n",
       "    <tr>\n",
       "      <th>Humidity(%)</th>\n",
       "      <td>0.022364</td>\n",
       "      <td>0.179500</td>\n",
       "      <td>0.008780</td>\n",
       "      <td>-0.330939</td>\n",
       "      <td>-0.314731</td>\n",
       "      <td>1.000000</td>\n",
       "      <td>0.115573</td>\n",
       "      <td>-0.384261</td>\n",
       "      <td>-0.172403</td>\n",
       "      <td>0.076936</td>\n",
       "      <td>0.022293</td>\n",
       "    </tr>\n",
       "    <tr>\n",
       "      <th>Pressure(in)</th>\n",
       "      <td>-0.194094</td>\n",
       "      <td>0.193185</td>\n",
       "      <td>-0.093121</td>\n",
       "      <td>0.109500</td>\n",
       "      <td>0.086598</td>\n",
       "      <td>0.115573</td>\n",
       "      <td>1.000000</td>\n",
       "      <td>0.038161</td>\n",
       "      <td>-0.022609</td>\n",
       "      <td>0.016511</td>\n",
       "      <td>0.042347</td>\n",
       "    </tr>\n",
       "    <tr>\n",
       "      <th>Visibility(mi)</th>\n",
       "      <td>-0.088500</td>\n",
       "      <td>-0.015322</td>\n",
       "      <td>-0.037225</td>\n",
       "      <td>0.217173</td>\n",
       "      <td>0.234022</td>\n",
       "      <td>-0.384261</td>\n",
       "      <td>0.038161</td>\n",
       "      <td>1.000000</td>\n",
       "      <td>0.014650</td>\n",
       "      <td>-0.119796</td>\n",
       "      <td>-0.003473</td>\n",
       "    </tr>\n",
       "    <tr>\n",
       "      <th>Wind_Speed(mph)</th>\n",
       "      <td>0.032908</td>\n",
       "      <td>0.077353</td>\n",
       "      <td>0.008989</td>\n",
       "      <td>0.033750</td>\n",
       "      <td>-0.043008</td>\n",
       "      <td>-0.172403</td>\n",
       "      <td>-0.022609</td>\n",
       "      <td>0.014650</td>\n",
       "      <td>1.000000</td>\n",
       "      <td>0.024202</td>\n",
       "      <td>0.040214</td>\n",
       "    </tr>\n",
       "    <tr>\n",
       "      <th>Precipitation(in)</th>\n",
       "      <td>0.000279</td>\n",
       "      <td>0.027619</td>\n",
       "      <td>-0.001480</td>\n",
       "      <td>-0.004633</td>\n",
       "      <td>-0.012143</td>\n",
       "      <td>0.076936</td>\n",
       "      <td>0.016511</td>\n",
       "      <td>-0.119796</td>\n",
       "      <td>0.024202</td>\n",
       "      <td>1.000000</td>\n",
       "      <td>0.021080</td>\n",
       "    </tr>\n",
       "    <tr>\n",
       "      <th>Severity</th>\n",
       "      <td>0.069060</td>\n",
       "      <td>0.052862</td>\n",
       "      <td>0.034787</td>\n",
       "      <td>-0.020327</td>\n",
       "      <td>-0.070039</td>\n",
       "      <td>0.022293</td>\n",
       "      <td>0.042347</td>\n",
       "      <td>-0.003473</td>\n",
       "      <td>0.040214</td>\n",
       "      <td>0.021080</td>\n",
       "      <td>1.000000</td>\n",
       "    </tr>\n",
       "  </tbody>\n",
       "</table>\n",
       "</div>"
      ],
      "text/plain": [
       "                   Start_Lat  Start_Lng  Distance(mi)  Temperature(F)  \\\n",
       "Start_Lat           1.000000  -0.067720      0.064064       -0.443781   \n",
       "Start_Lng          -0.067720   1.000000      0.007851       -0.010652   \n",
       "Distance(mi)        0.064064   0.007851      1.000000       -0.054082   \n",
       "Temperature(F)     -0.443781  -0.010652     -0.054082        1.000000   \n",
       "Wind_Chill(F)      -0.480296  -0.031810     -0.044309        0.993744   \n",
       "Humidity(%)         0.022364   0.179500      0.008780       -0.330939   \n",
       "Pressure(in)       -0.194094   0.193185     -0.093121        0.109500   \n",
       "Visibility(mi)     -0.088500  -0.015322     -0.037225        0.217173   \n",
       "Wind_Speed(mph)     0.032908   0.077353      0.008989        0.033750   \n",
       "Precipitation(in)   0.000279   0.027619     -0.001480       -0.004633   \n",
       "Severity            0.069060   0.052862      0.034787       -0.020327   \n",
       "\n",
       "                   Wind_Chill(F)  Humidity(%)  Pressure(in)  Visibility(mi)  \\\n",
       "Start_Lat              -0.480296     0.022364     -0.194094       -0.088500   \n",
       "Start_Lng              -0.031810     0.179500      0.193185       -0.015322   \n",
       "Distance(mi)           -0.044309     0.008780     -0.093121       -0.037225   \n",
       "Temperature(F)          0.993744    -0.330939      0.109500        0.217173   \n",
       "Wind_Chill(F)           1.000000    -0.314731      0.086598        0.234022   \n",
       "Humidity(%)            -0.314731     1.000000      0.115573       -0.384261   \n",
       "Pressure(in)            0.086598     0.115573      1.000000        0.038161   \n",
       "Visibility(mi)          0.234022    -0.384261      0.038161        1.000000   \n",
       "Wind_Speed(mph)        -0.043008    -0.172403     -0.022609        0.014650   \n",
       "Precipitation(in)      -0.012143     0.076936      0.016511       -0.119796   \n",
       "Severity               -0.070039     0.022293      0.042347       -0.003473   \n",
       "\n",
       "                   Wind_Speed(mph)  Precipitation(in)  Severity  \n",
       "Start_Lat                 0.032908           0.000279  0.069060  \n",
       "Start_Lng                 0.077353           0.027619  0.052862  \n",
       "Distance(mi)              0.008989          -0.001480  0.034787  \n",
       "Temperature(F)            0.033750          -0.004633 -0.020327  \n",
       "Wind_Chill(F)            -0.043008          -0.012143 -0.070039  \n",
       "Humidity(%)              -0.172403           0.076936  0.022293  \n",
       "Pressure(in)             -0.022609           0.016511  0.042347  \n",
       "Visibility(mi)            0.014650          -0.119796 -0.003473  \n",
       "Wind_Speed(mph)           1.000000           0.024202  0.040214  \n",
       "Precipitation(in)         0.024202           1.000000  0.021080  \n",
       "Severity                  0.040214           0.021080  1.000000  "
      ]
     },
     "execution_count": 41,
     "metadata": {},
     "output_type": "execute_result"
    }
   ],
   "source": [
    "correlations"
   ]
  },
  {
   "cell_type": "markdown",
   "id": "6c5dcefa-ecae-44fd-b8e5-3b5cffc1d10c",
   "metadata": {},
   "source": [
    "<p> Since Temperature & Wind Chill are Highly related, we are dropping Wind Chill </p>"
   ]
  },
  {
   "cell_type": "code",
   "execution_count": 28,
   "id": "34f48303-7e33-4911-9ac2-d4cdb77ec5f0",
   "metadata": {},
   "outputs": [],
   "source": [
    "df = df.drop(columns=['Wind_Chill(F)'])"
   ]
  },
  {
   "cell_type": "code",
   "execution_count": 30,
   "id": "d2de3e03-84bb-4abb-8fed-6eb86edcb4cc",
   "metadata": {},
   "outputs": [
    {
     "data": {
      "text/plain": [
       "(7728394, 32)"
      ]
     },
     "execution_count": 30,
     "metadata": {},
     "output_type": "execute_result"
    }
   ],
   "source": [
    "df.shape"
   ]
  },
  {
   "cell_type": "markdown",
   "id": "7bf5717e-65f9-4781-8ec3-86524c4a531b",
   "metadata": {},
   "source": [
    "<h3> Assigning Appropriate Data Types </h3>"
   ]
  },
  {
   "cell_type": "code",
   "execution_count": 52,
   "id": "0899c415-fb99-461b-aa59-dcab4219c465",
   "metadata": {},
   "outputs": [
    {
     "name": "stdout",
     "output_type": "stream",
     "text": [
      "<class 'pandas.core.frame.DataFrame'>\n",
      "RangeIndex: 7728394 entries, 0 to 7728393\n",
      "Data columns (total 33 columns):\n",
      " #   Column             Dtype  \n",
      "---  ------             -----  \n",
      " 0   Severity           int64  \n",
      " 1   Start_Time         object \n",
      " 2   End_Time           object \n",
      " 3   Start_Lat          float64\n",
      " 4   Start_Lng          float64\n",
      " 5   Distance(mi)       float64\n",
      " 6   Description        object \n",
      " 7   Street             object \n",
      " 8   City               object \n",
      " 9   State              object \n",
      " 10  Zipcode            object \n",
      " 11  Timezone           object \n",
      " 12  Airport_Code       object \n",
      " 13  Temperature(F)     float64\n",
      " 14  Humidity(%)        float64\n",
      " 15  Pressure(in)       float64\n",
      " 16  Visibility(mi)     float64\n",
      " 17  Wind_Speed(mph)    float64\n",
      " 18  Precipitation(in)  float64\n",
      " 19  Weather_Condition  object \n",
      " 20  Amenity            bool   \n",
      " 21  Bump               bool   \n",
      " 22  Crossing           bool   \n",
      " 23  Give_Way           bool   \n",
      " 24  Junction           bool   \n",
      " 25  No_Exit            bool   \n",
      " 26  Railway            bool   \n",
      " 27  Roundabout         bool   \n",
      " 28  Station            bool   \n",
      " 29  Stop               bool   \n",
      " 30  Traffic_Calming    bool   \n",
      " 31  Traffic_Signal     bool   \n",
      " 32  Sunrise_Sunset     object \n",
      "dtypes: bool(12), float64(9), int64(1), object(11)\n",
      "memory usage: 1.3+ GB\n"
     ]
    }
   ],
   "source": [
    "df.info()"
   ]
  },
  {
   "cell_type": "markdown",
   "id": "c15226ed-0325-45c4-8bdd-52dfb9b90227",
   "metadata": {},
   "source": [
    "<b> Summary of transformations applied to column to assign appropriate data types. </b>\n",
    "\n",
    "<table>\n",
    "    <tr>\n",
    "        <th> Column </th>\n",
    "        <th> Old Data Type </th>\n",
    "        <th> New Data Type </th>\n",
    "    </tr>\n",
    "    <tr>\n",
    "        <td> Start_Time </td>\n",
    "        <td> object </td>\n",
    "        <td> Datetime </td>\n",
    "    </tr>\n",
    "    <tr>\n",
    "        <td> End_Time </td>\n",
    "        <td> object </td>\n",
    "        <td> Datetime </td>\n",
    "    </tr>\n",
    "    <tr>\n",
    "        <td> Zipcode </td>\n",
    "        <td> object </td>\n",
    "        <td> Integer </td>\n",
    "    </tr>\n",
    "    <tr>\n",
    "        <td> Sunrise_Sunset </td>\n",
    "        <td> object </td>\n",
    "        <td> Boolean </td>\n",
    "    </tr>\n",
    "\n",
    "</table>"
   ]
  },
  {
   "cell_type": "code",
   "execution_count": 32,
   "id": "30574ec8-647d-4884-bc88-bf0937453c49",
   "metadata": {},
   "outputs": [],
   "source": [
    "df[\"Start_Time\"] = df[\"Start_Time\"].astype(\"datetime64[ns]\")\n",
    "df[\"End_Time\"] = df[\"End_Time\"].astype(\"datetime64[ns]\")"
   ]
  },
  {
   "cell_type": "markdown",
   "id": "f0eb3142-3a78-4286-901e-fc1540ce5696",
   "metadata": {},
   "source": [
    "<p> Working with Zipcode </p>"
   ]
  },
  {
   "cell_type": "code",
   "execution_count": 34,
   "id": "6e9ea0e0-435e-49e1-9c44-f06c2fdf4631",
   "metadata": {},
   "outputs": [],
   "source": [
    "#To check whether the record is an integer or not\n",
    "def checkisInt(x):\n",
    "    try:\n",
    "        int(x)\n",
    "        return True\n",
    "    except Exception as e :\n",
    "        return False"
   ]
  },
  {
   "cell_type": "code",
   "execution_count": 36,
   "id": "819829dc-e4fa-47d8-ab18-64775167b360",
   "metadata": {},
   "outputs": [
    {
     "data": {
      "text/html": [
       "<div>\n",
       "<style scoped>\n",
       "    .dataframe tbody tr th:only-of-type {\n",
       "        vertical-align: middle;\n",
       "    }\n",
       "\n",
       "    .dataframe tbody tr th {\n",
       "        vertical-align: top;\n",
       "    }\n",
       "\n",
       "    .dataframe thead th {\n",
       "        text-align: right;\n",
       "    }\n",
       "</style>\n",
       "<table border=\"1\" class=\"dataframe\">\n",
       "  <thead>\n",
       "    <tr style=\"text-align: right;\">\n",
       "      <th></th>\n",
       "      <th>Severity</th>\n",
       "      <th>Start_Time</th>\n",
       "      <th>End_Time</th>\n",
       "      <th>Start_Lat</th>\n",
       "      <th>Start_Lng</th>\n",
       "      <th>Distance(mi)</th>\n",
       "      <th>Description</th>\n",
       "      <th>Street</th>\n",
       "      <th>City</th>\n",
       "      <th>State</th>\n",
       "      <th>Zipcode</th>\n",
       "      <th>Airport_Code</th>\n",
       "      <th>Temperature(F)</th>\n",
       "      <th>Humidity(%)</th>\n",
       "      <th>Pressure(in)</th>\n",
       "      <th>Visibility(mi)</th>\n",
       "      <th>Wind_Speed(mph)</th>\n",
       "      <th>Precipitation(in)</th>\n",
       "      <th>Weather_Condition</th>\n",
       "      <th>Amenity</th>\n",
       "      <th>Bump</th>\n",
       "      <th>Crossing</th>\n",
       "      <th>Give_Way</th>\n",
       "      <th>Junction</th>\n",
       "      <th>No_Exit</th>\n",
       "      <th>Railway</th>\n",
       "      <th>Roundabout</th>\n",
       "      <th>Station</th>\n",
       "      <th>Stop</th>\n",
       "      <th>Traffic_Calming</th>\n",
       "      <th>Traffic_Signal</th>\n",
       "      <th>Sunrise_Sunset</th>\n",
       "    </tr>\n",
       "  </thead>\n",
       "  <tbody>\n",
       "    <tr>\n",
       "      <th>1</th>\n",
       "      <td>2</td>\n",
       "      <td>2016-02-08 06:07:59</td>\n",
       "      <td>2016-02-08 06:37:59</td>\n",
       "      <td>39.928059</td>\n",
       "      <td>-82.831184</td>\n",
       "      <td>0.010</td>\n",
       "      <td>Accident on Brice Rd at Tussing Rd. Expect del...</td>\n",
       "      <td>Brice Rd</td>\n",
       "      <td>Reynoldsburg</td>\n",
       "      <td>OH</td>\n",
       "      <td>43068-3402</td>\n",
       "      <td>KCMH</td>\n",
       "      <td>37.9</td>\n",
       "      <td>100.0</td>\n",
       "      <td>29.65</td>\n",
       "      <td>10.0</td>\n",
       "      <td>NaN</td>\n",
       "      <td>0.0</td>\n",
       "      <td>Light Rain</td>\n",
       "      <td>False</td>\n",
       "      <td>False</td>\n",
       "      <td>False</td>\n",
       "      <td>False</td>\n",
       "      <td>False</td>\n",
       "      <td>False</td>\n",
       "      <td>False</td>\n",
       "      <td>False</td>\n",
       "      <td>False</td>\n",
       "      <td>False</td>\n",
       "      <td>False</td>\n",
       "      <td>False</td>\n",
       "      <td>Night</td>\n",
       "    </tr>\n",
       "    <tr>\n",
       "      <th>6</th>\n",
       "      <td>2</td>\n",
       "      <td>2016-02-08 07:59:35</td>\n",
       "      <td>2016-02-08 08:29:35</td>\n",
       "      <td>39.758274</td>\n",
       "      <td>-84.230507</td>\n",
       "      <td>0.000</td>\n",
       "      <td>Accident on Oakridge Dr at Woodward Ave. Expec...</td>\n",
       "      <td>N Woodward Ave</td>\n",
       "      <td>Dayton</td>\n",
       "      <td>OH</td>\n",
       "      <td>45417-2476</td>\n",
       "      <td>KDAY</td>\n",
       "      <td>34.0</td>\n",
       "      <td>100.0</td>\n",
       "      <td>29.66</td>\n",
       "      <td>7.0</td>\n",
       "      <td>3.5</td>\n",
       "      <td>NaN</td>\n",
       "      <td>Overcast</td>\n",
       "      <td>False</td>\n",
       "      <td>False</td>\n",
       "      <td>False</td>\n",
       "      <td>False</td>\n",
       "      <td>False</td>\n",
       "      <td>False</td>\n",
       "      <td>False</td>\n",
       "      <td>False</td>\n",
       "      <td>False</td>\n",
       "      <td>False</td>\n",
       "      <td>False</td>\n",
       "      <td>False</td>\n",
       "      <td>Day</td>\n",
       "    </tr>\n",
       "    <tr>\n",
       "      <th>8</th>\n",
       "      <td>2</td>\n",
       "      <td>2016-02-08 08:00:40</td>\n",
       "      <td>2016-02-08 08:30:40</td>\n",
       "      <td>39.778061</td>\n",
       "      <td>-84.172005</td>\n",
       "      <td>0.000</td>\n",
       "      <td>Accident on Notre Dame Ave at Warner Ave. Expe...</td>\n",
       "      <td>Notre Dame Ave</td>\n",
       "      <td>Dayton</td>\n",
       "      <td>OH</td>\n",
       "      <td>45404-1923</td>\n",
       "      <td>KFFO</td>\n",
       "      <td>33.3</td>\n",
       "      <td>99.0</td>\n",
       "      <td>29.67</td>\n",
       "      <td>5.0</td>\n",
       "      <td>1.2</td>\n",
       "      <td>NaN</td>\n",
       "      <td>Mostly Cloudy</td>\n",
       "      <td>False</td>\n",
       "      <td>False</td>\n",
       "      <td>False</td>\n",
       "      <td>False</td>\n",
       "      <td>False</td>\n",
       "      <td>False</td>\n",
       "      <td>False</td>\n",
       "      <td>False</td>\n",
       "      <td>False</td>\n",
       "      <td>False</td>\n",
       "      <td>False</td>\n",
       "      <td>False</td>\n",
       "      <td>Day</td>\n",
       "    </tr>\n",
       "    <tr>\n",
       "      <th>12</th>\n",
       "      <td>2</td>\n",
       "      <td>2016-02-08 08:36:34</td>\n",
       "      <td>2016-02-08 09:06:34</td>\n",
       "      <td>39.737633</td>\n",
       "      <td>-84.149933</td>\n",
       "      <td>0.000</td>\n",
       "      <td>Accident on Revere Ave at Watervliet Ave. Expe...</td>\n",
       "      <td>Watervliet Ave</td>\n",
       "      <td>Dayton</td>\n",
       "      <td>OH</td>\n",
       "      <td>45420-1863</td>\n",
       "      <td>KFFO</td>\n",
       "      <td>33.8</td>\n",
       "      <td>100.0</td>\n",
       "      <td>29.63</td>\n",
       "      <td>3.0</td>\n",
       "      <td>2.3</td>\n",
       "      <td>NaN</td>\n",
       "      <td>Overcast</td>\n",
       "      <td>False</td>\n",
       "      <td>False</td>\n",
       "      <td>False</td>\n",
       "      <td>False</td>\n",
       "      <td>False</td>\n",
       "      <td>False</td>\n",
       "      <td>False</td>\n",
       "      <td>False</td>\n",
       "      <td>False</td>\n",
       "      <td>False</td>\n",
       "      <td>False</td>\n",
       "      <td>False</td>\n",
       "      <td>Day</td>\n",
       "    </tr>\n",
       "    <tr>\n",
       "      <th>13</th>\n",
       "      <td>2</td>\n",
       "      <td>2016-02-08 08:37:07</td>\n",
       "      <td>2016-02-08 09:07:07</td>\n",
       "      <td>39.790760</td>\n",
       "      <td>-84.241547</td>\n",
       "      <td>0.010</td>\n",
       "      <td>Accident on Salem Ave at Hillcrest Ave / Kensi...</td>\n",
       "      <td>Salem Ave</td>\n",
       "      <td>Dayton</td>\n",
       "      <td>OH</td>\n",
       "      <td>45406-2708</td>\n",
       "      <td>KDAY</td>\n",
       "      <td>36.0</td>\n",
       "      <td>89.0</td>\n",
       "      <td>29.65</td>\n",
       "      <td>10.0</td>\n",
       "      <td>5.8</td>\n",
       "      <td>NaN</td>\n",
       "      <td>Mostly Cloudy</td>\n",
       "      <td>False</td>\n",
       "      <td>False</td>\n",
       "      <td>False</td>\n",
       "      <td>False</td>\n",
       "      <td>False</td>\n",
       "      <td>False</td>\n",
       "      <td>False</td>\n",
       "      <td>False</td>\n",
       "      <td>False</td>\n",
       "      <td>False</td>\n",
       "      <td>False</td>\n",
       "      <td>True</td>\n",
       "      <td>Day</td>\n",
       "    </tr>\n",
       "    <tr>\n",
       "      <th>...</th>\n",
       "      <td>...</td>\n",
       "      <td>...</td>\n",
       "      <td>...</td>\n",
       "      <td>...</td>\n",
       "      <td>...</td>\n",
       "      <td>...</td>\n",
       "      <td>...</td>\n",
       "      <td>...</td>\n",
       "      <td>...</td>\n",
       "      <td>...</td>\n",
       "      <td>...</td>\n",
       "      <td>...</td>\n",
       "      <td>...</td>\n",
       "      <td>...</td>\n",
       "      <td>...</td>\n",
       "      <td>...</td>\n",
       "      <td>...</td>\n",
       "      <td>...</td>\n",
       "      <td>...</td>\n",
       "      <td>...</td>\n",
       "      <td>...</td>\n",
       "      <td>...</td>\n",
       "      <td>...</td>\n",
       "      <td>...</td>\n",
       "      <td>...</td>\n",
       "      <td>...</td>\n",
       "      <td>...</td>\n",
       "      <td>...</td>\n",
       "      <td>...</td>\n",
       "      <td>...</td>\n",
       "      <td>...</td>\n",
       "      <td>...</td>\n",
       "    </tr>\n",
       "    <tr>\n",
       "      <th>7728340</th>\n",
       "      <td>2</td>\n",
       "      <td>2019-08-23 14:44:22</td>\n",
       "      <td>2019-08-23 15:11:51</td>\n",
       "      <td>37.573253</td>\n",
       "      <td>-122.340625</td>\n",
       "      <td>0.057</td>\n",
       "      <td>At Warren Rd - Accident. Lane blocked.</td>\n",
       "      <td>State St</td>\n",
       "      <td>San Mateo</td>\n",
       "      <td>CA</td>\n",
       "      <td>94401-2213</td>\n",
       "      <td>KSFO</td>\n",
       "      <td>78.0</td>\n",
       "      <td>52.0</td>\n",
       "      <td>29.78</td>\n",
       "      <td>10.0</td>\n",
       "      <td>6.0</td>\n",
       "      <td>0.0</td>\n",
       "      <td>Fair</td>\n",
       "      <td>False</td>\n",
       "      <td>False</td>\n",
       "      <td>False</td>\n",
       "      <td>False</td>\n",
       "      <td>False</td>\n",
       "      <td>False</td>\n",
       "      <td>False</td>\n",
       "      <td>False</td>\n",
       "      <td>True</td>\n",
       "      <td>False</td>\n",
       "      <td>False</td>\n",
       "      <td>False</td>\n",
       "      <td>Day</td>\n",
       "    </tr>\n",
       "    <tr>\n",
       "      <th>7728341</th>\n",
       "      <td>2</td>\n",
       "      <td>2019-08-23 10:14:30</td>\n",
       "      <td>2019-08-27 10:14:14</td>\n",
       "      <td>38.443260</td>\n",
       "      <td>-120.536017</td>\n",
       "      <td>2.281</td>\n",
       "      <td>Between Buckhorn Ridge Rd and Inspiration Dr W...</td>\n",
       "      <td>Buckhorn Ridge Rd</td>\n",
       "      <td>Pioneer</td>\n",
       "      <td>CA</td>\n",
       "      <td>95666-9422</td>\n",
       "      <td>KPVF</td>\n",
       "      <td>82.0</td>\n",
       "      <td>39.0</td>\n",
       "      <td>27.23</td>\n",
       "      <td>10.0</td>\n",
       "      <td>5.0</td>\n",
       "      <td>0.0</td>\n",
       "      <td>Fair</td>\n",
       "      <td>False</td>\n",
       "      <td>False</td>\n",
       "      <td>False</td>\n",
       "      <td>False</td>\n",
       "      <td>False</td>\n",
       "      <td>False</td>\n",
       "      <td>False</td>\n",
       "      <td>False</td>\n",
       "      <td>False</td>\n",
       "      <td>True</td>\n",
       "      <td>False</td>\n",
       "      <td>False</td>\n",
       "      <td>Day</td>\n",
       "    </tr>\n",
       "    <tr>\n",
       "      <th>7728354</th>\n",
       "      <td>4</td>\n",
       "      <td>2019-08-23 17:25:12</td>\n",
       "      <td>2019-08-23 17:54:00</td>\n",
       "      <td>38.995930</td>\n",
       "      <td>-121.672020</td>\n",
       "      <td>0.708</td>\n",
       "      <td>Closed between Yuba City and CA-99/Sawtelle Av...</td>\n",
       "      <td>Thompson Rd</td>\n",
       "      <td>Yuba City</td>\n",
       "      <td>CA</td>\n",
       "      <td>95993-9744</td>\n",
       "      <td>KMYV</td>\n",
       "      <td>98.0</td>\n",
       "      <td>23.0</td>\n",
       "      <td>29.62</td>\n",
       "      <td>10.0</td>\n",
       "      <td>8.0</td>\n",
       "      <td>0.0</td>\n",
       "      <td>Partly Cloudy</td>\n",
       "      <td>False</td>\n",
       "      <td>False</td>\n",
       "      <td>False</td>\n",
       "      <td>False</td>\n",
       "      <td>False</td>\n",
       "      <td>False</td>\n",
       "      <td>False</td>\n",
       "      <td>False</td>\n",
       "      <td>False</td>\n",
       "      <td>False</td>\n",
       "      <td>False</td>\n",
       "      <td>False</td>\n",
       "      <td>Day</td>\n",
       "    </tr>\n",
       "    <tr>\n",
       "      <th>7728355</th>\n",
       "      <td>4</td>\n",
       "      <td>2019-08-23 17:25:12</td>\n",
       "      <td>2019-08-23 17:54:00</td>\n",
       "      <td>39.003170</td>\n",
       "      <td>-121.662679</td>\n",
       "      <td>0.708</td>\n",
       "      <td>Closed between CA-99/Sawtelle Ave and Yuba Cit...</td>\n",
       "      <td>Tudor Rd</td>\n",
       "      <td>Yuba City</td>\n",
       "      <td>CA</td>\n",
       "      <td>95993-9513</td>\n",
       "      <td>KMYV</td>\n",
       "      <td>98.0</td>\n",
       "      <td>23.0</td>\n",
       "      <td>29.62</td>\n",
       "      <td>10.0</td>\n",
       "      <td>8.0</td>\n",
       "      <td>0.0</td>\n",
       "      <td>Partly Cloudy</td>\n",
       "      <td>False</td>\n",
       "      <td>False</td>\n",
       "      <td>False</td>\n",
       "      <td>False</td>\n",
       "      <td>False</td>\n",
       "      <td>False</td>\n",
       "      <td>False</td>\n",
       "      <td>False</td>\n",
       "      <td>False</td>\n",
       "      <td>False</td>\n",
       "      <td>False</td>\n",
       "      <td>False</td>\n",
       "      <td>Day</td>\n",
       "    </tr>\n",
       "    <tr>\n",
       "      <th>7728356</th>\n",
       "      <td>3</td>\n",
       "      <td>2019-08-23 01:16:01</td>\n",
       "      <td>2019-08-23 01:44:53</td>\n",
       "      <td>34.121320</td>\n",
       "      <td>-117.254540</td>\n",
       "      <td>0.000</td>\n",
       "      <td>At San Bernardino - Accident.</td>\n",
       "      <td>E Base Line St</td>\n",
       "      <td>San Bernardino</td>\n",
       "      <td>CA</td>\n",
       "      <td>92410-4114</td>\n",
       "      <td>KSBD</td>\n",
       "      <td>67.0</td>\n",
       "      <td>73.0</td>\n",
       "      <td>28.61</td>\n",
       "      <td>10.0</td>\n",
       "      <td>3.0</td>\n",
       "      <td>0.0</td>\n",
       "      <td>Fair</td>\n",
       "      <td>False</td>\n",
       "      <td>False</td>\n",
       "      <td>False</td>\n",
       "      <td>False</td>\n",
       "      <td>False</td>\n",
       "      <td>False</td>\n",
       "      <td>False</td>\n",
       "      <td>False</td>\n",
       "      <td>False</td>\n",
       "      <td>False</td>\n",
       "      <td>False</td>\n",
       "      <td>False</td>\n",
       "      <td>Night</td>\n",
       "    </tr>\n",
       "  </tbody>\n",
       "</table>\n",
       "<p>2270183 rows × 32 columns</p>\n",
       "</div>"
      ],
      "text/plain": [
       "         Severity          Start_Time            End_Time  Start_Lat  \\\n",
       "1               2 2016-02-08 06:07:59 2016-02-08 06:37:59  39.928059   \n",
       "6               2 2016-02-08 07:59:35 2016-02-08 08:29:35  39.758274   \n",
       "8               2 2016-02-08 08:00:40 2016-02-08 08:30:40  39.778061   \n",
       "12              2 2016-02-08 08:36:34 2016-02-08 09:06:34  39.737633   \n",
       "13              2 2016-02-08 08:37:07 2016-02-08 09:07:07  39.790760   \n",
       "...           ...                 ...                 ...        ...   \n",
       "7728340         2 2019-08-23 14:44:22 2019-08-23 15:11:51  37.573253   \n",
       "7728341         2 2019-08-23 10:14:30 2019-08-27 10:14:14  38.443260   \n",
       "7728354         4 2019-08-23 17:25:12 2019-08-23 17:54:00  38.995930   \n",
       "7728355         4 2019-08-23 17:25:12 2019-08-23 17:54:00  39.003170   \n",
       "7728356         3 2019-08-23 01:16:01 2019-08-23 01:44:53  34.121320   \n",
       "\n",
       "          Start_Lng  Distance(mi)  \\\n",
       "1        -82.831184         0.010   \n",
       "6        -84.230507         0.000   \n",
       "8        -84.172005         0.000   \n",
       "12       -84.149933         0.000   \n",
       "13       -84.241547         0.010   \n",
       "...             ...           ...   \n",
       "7728340 -122.340625         0.057   \n",
       "7728341 -120.536017         2.281   \n",
       "7728354 -121.672020         0.708   \n",
       "7728355 -121.662679         0.708   \n",
       "7728356 -117.254540         0.000   \n",
       "\n",
       "                                               Description  \\\n",
       "1        Accident on Brice Rd at Tussing Rd. Expect del...   \n",
       "6        Accident on Oakridge Dr at Woodward Ave. Expec...   \n",
       "8        Accident on Notre Dame Ave at Warner Ave. Expe...   \n",
       "12       Accident on Revere Ave at Watervliet Ave. Expe...   \n",
       "13       Accident on Salem Ave at Hillcrest Ave / Kensi...   \n",
       "...                                                    ...   \n",
       "7728340             At Warren Rd - Accident. Lane blocked.   \n",
       "7728341  Between Buckhorn Ridge Rd and Inspiration Dr W...   \n",
       "7728354  Closed between Yuba City and CA-99/Sawtelle Av...   \n",
       "7728355  Closed between CA-99/Sawtelle Ave and Yuba Cit...   \n",
       "7728356                      At San Bernardino - Accident.   \n",
       "\n",
       "                     Street            City State     Zipcode Airport_Code  \\\n",
       "1                  Brice Rd    Reynoldsburg    OH  43068-3402         KCMH   \n",
       "6            N Woodward Ave          Dayton    OH  45417-2476         KDAY   \n",
       "8            Notre Dame Ave          Dayton    OH  45404-1923         KFFO   \n",
       "12           Watervliet Ave          Dayton    OH  45420-1863         KFFO   \n",
       "13                Salem Ave          Dayton    OH  45406-2708         KDAY   \n",
       "...                     ...             ...   ...         ...          ...   \n",
       "7728340            State St       San Mateo    CA  94401-2213         KSFO   \n",
       "7728341   Buckhorn Ridge Rd         Pioneer    CA  95666-9422         KPVF   \n",
       "7728354         Thompson Rd       Yuba City    CA  95993-9744         KMYV   \n",
       "7728355            Tudor Rd       Yuba City    CA  95993-9513         KMYV   \n",
       "7728356      E Base Line St  San Bernardino    CA  92410-4114         KSBD   \n",
       "\n",
       "         Temperature(F)  Humidity(%)  Pressure(in)  Visibility(mi)  \\\n",
       "1                  37.9        100.0         29.65            10.0   \n",
       "6                  34.0        100.0         29.66             7.0   \n",
       "8                  33.3         99.0         29.67             5.0   \n",
       "12                 33.8        100.0         29.63             3.0   \n",
       "13                 36.0         89.0         29.65            10.0   \n",
       "...                 ...          ...           ...             ...   \n",
       "7728340            78.0         52.0         29.78            10.0   \n",
       "7728341            82.0         39.0         27.23            10.0   \n",
       "7728354            98.0         23.0         29.62            10.0   \n",
       "7728355            98.0         23.0         29.62            10.0   \n",
       "7728356            67.0         73.0         28.61            10.0   \n",
       "\n",
       "         Wind_Speed(mph)  Precipitation(in) Weather_Condition  Amenity   Bump  \\\n",
       "1                    NaN                0.0        Light Rain    False  False   \n",
       "6                    3.5                NaN          Overcast    False  False   \n",
       "8                    1.2                NaN     Mostly Cloudy    False  False   \n",
       "12                   2.3                NaN          Overcast    False  False   \n",
       "13                   5.8                NaN     Mostly Cloudy    False  False   \n",
       "...                  ...                ...               ...      ...    ...   \n",
       "7728340              6.0                0.0              Fair    False  False   \n",
       "7728341              5.0                0.0              Fair    False  False   \n",
       "7728354              8.0                0.0     Partly Cloudy    False  False   \n",
       "7728355              8.0                0.0     Partly Cloudy    False  False   \n",
       "7728356              3.0                0.0              Fair    False  False   \n",
       "\n",
       "         Crossing  Give_Way  Junction  No_Exit  Railway  Roundabout  Station  \\\n",
       "1           False     False     False    False    False       False    False   \n",
       "6           False     False     False    False    False       False    False   \n",
       "8           False     False     False    False    False       False    False   \n",
       "12          False     False     False    False    False       False    False   \n",
       "13          False     False     False    False    False       False    False   \n",
       "...           ...       ...       ...      ...      ...         ...      ...   \n",
       "7728340     False     False     False    False    False       False     True   \n",
       "7728341     False     False     False    False    False       False    False   \n",
       "7728354     False     False     False    False    False       False    False   \n",
       "7728355     False     False     False    False    False       False    False   \n",
       "7728356     False     False     False    False    False       False    False   \n",
       "\n",
       "          Stop  Traffic_Calming  Traffic_Signal Sunrise_Sunset  \n",
       "1        False            False           False          Night  \n",
       "6        False            False           False            Day  \n",
       "8        False            False           False            Day  \n",
       "12       False            False           False            Day  \n",
       "13       False            False            True            Day  \n",
       "...        ...              ...             ...            ...  \n",
       "7728340  False            False           False            Day  \n",
       "7728341   True            False           False            Day  \n",
       "7728354  False            False           False            Day  \n",
       "7728355  False            False           False            Day  \n",
       "7728356  False            False           False          Night  \n",
       "\n",
       "[2270183 rows x 32 columns]"
      ]
     },
     "execution_count": 36,
     "metadata": {},
     "output_type": "execute_result"
    }
   ],
   "source": [
    "df[~df[\"Zipcode\"].apply(checkisInt)]"
   ]
  },
  {
   "cell_type": "markdown",
   "id": "8aa2f6ec-3ad4-4868-9d4c-aeb16774fa4e",
   "metadata": {},
   "source": [
    "<p> So many Zipcodes are in the form xxxx - yyyy, we are required only in the part before the hypen so will extract it.</p>"
   ]
  },
  {
   "cell_type": "code",
   "execution_count": 38,
   "id": "53119e69-66b2-477e-9356-be6d644c209b",
   "metadata": {},
   "outputs": [],
   "source": [
    "df['Zipcode'] = df['Zipcode'].str.split(\"-\").str[0]"
   ]
  },
  {
   "cell_type": "markdown",
   "id": "70a4493a-a785-437f-830f-2fb0a6d004a2",
   "metadata": {},
   "source": [
    "<p> Now converting Sunsrise_Sunset to a boolean column & renaming it to Day </p>\n",
    "<p> So if its a day, we assign True, otherwise False </p>"
   ]
  },
  {
   "cell_type": "code",
   "execution_count": 36,
   "id": "2e029869-934d-4a59-9e85-3c1ae5d82de0",
   "metadata": {},
   "outputs": [
    {
     "data": {
      "text/plain": [
       "Sunrise_Sunset\n",
       "Day      5334553\n",
       "Night    2370595\n",
       "Name: count, dtype: int64"
      ]
     },
     "execution_count": 36,
     "metadata": {},
     "output_type": "execute_result"
    }
   ],
   "source": [
    "df[\"Sunrise_Sunset\"].value_counts()"
   ]
  },
  {
   "cell_type": "code",
   "execution_count": 43,
   "id": "3bba0f91-a3db-45ca-bb41-5c4fffadd378",
   "metadata": {},
   "outputs": [],
   "source": [
    "df.rename(columns = {\"Sunrise_Sunset\" : \"Day\"}, inplace = True)"
   ]
  },
  {
   "cell_type": "code",
   "execution_count": 45,
   "id": "6d48309e-0dbb-4806-8d0c-412e460b66d5",
   "metadata": {},
   "outputs": [],
   "source": [
    "df[\"Day\"].replace(to_replace = \"Day\", value = True,inplace = True)\n",
    "df[\"Day\"].replace(to_replace = \"Night\", value = False,inplace = True)"
   ]
  },
  {
   "cell_type": "code",
   "execution_count": 51,
   "id": "8dd50223-3cc8-49d8-b25e-44e7dc036ad5",
   "metadata": {},
   "outputs": [
    {
     "data": {
      "text/plain": [
       "(7728394, 33)"
      ]
     },
     "execution_count": 51,
     "metadata": {},
     "output_type": "execute_result"
    }
   ],
   "source": [
    "df.shape"
   ]
  },
  {
   "cell_type": "code",
   "execution_count": 53,
   "id": "1cbf9963-d66a-42a7-9f2c-d8a75ae1aa94",
   "metadata": {},
   "outputs": [],
   "source": [
    "df[\"month\"] = df[\"Start_Time\"].dt.month"
   ]
  },
  {
   "cell_type": "markdown",
   "id": "3f864e23-4fef-4a1c-942e-f037366b802e",
   "metadata": {},
   "source": [
    "<h3> Handling NaN Values </h3>"
   ]
  },
  {
   "cell_type": "code",
   "execution_count": 56,
   "id": "f28fc4ac-2c2c-4d73-9b62-df51502599b4",
   "metadata": {
    "scrolled": true
   },
   "outputs": [
    {
     "data": {
      "text/plain": [
       "Severity                   0\n",
       "Start_Time                 0\n",
       "End_Time                   0\n",
       "Start_Lat                  0\n",
       "Start_Lng                  0\n",
       "Distance(mi)               0\n",
       "Description                5\n",
       "Street                 10869\n",
       "City                     253\n",
       "State                      0\n",
       "Zipcode                 1915\n",
       "Airport_Code           22635\n",
       "Temperature(F)        163853\n",
       "Humidity(%)           174144\n",
       "Pressure(in)          140679\n",
       "Visibility(mi)        177098\n",
       "Wind_Speed(mph)       571233\n",
       "Precipitation(in)    2203586\n",
       "Weather_Condition     173459\n",
       "Amenity                    0\n",
       "Bump                       0\n",
       "Crossing                   0\n",
       "Give_Way                   0\n",
       "Junction                   0\n",
       "No_Exit                    0\n",
       "Railway                    0\n",
       "Roundabout                 0\n",
       "Station                    0\n",
       "Stop                       0\n",
       "Traffic_Calming            0\n",
       "Traffic_Signal             0\n",
       "Day                    23246\n",
       "month                      0\n",
       "dtype: int64"
      ]
     },
     "execution_count": 56,
     "metadata": {},
     "output_type": "execute_result"
    }
   ],
   "source": [
    "df.isna().sum()"
   ]
  },
  {
   "cell_type": "code",
   "execution_count": 60,
   "id": "b2ccd244-cfc8-43c3-a8af-145943ea7d32",
   "metadata": {},
   "outputs": [
    {
     "data": {
      "text/plain": [
       "Severity              0.000000\n",
       "Start_Time            0.000000\n",
       "End_Time              0.000000\n",
       "Start_Lat             0.000000\n",
       "Start_Lng             0.000000\n",
       "Distance(mi)          0.000000\n",
       "Description           0.000065\n",
       "Street                0.140637\n",
       "City                  0.003274\n",
       "State                 0.000000\n",
       "Zipcode               0.024779\n",
       "Airport_Code          0.292881\n",
       "Temperature(F)        2.120143\n",
       "Humidity(%)           2.253301\n",
       "Pressure(in)          1.820288\n",
       "Visibility(mi)        2.291524\n",
       "Wind_Speed(mph)       7.391355\n",
       "Precipitation(in)    28.512858\n",
       "Weather_Condition     2.244438\n",
       "Amenity               0.000000\n",
       "Bump                  0.000000\n",
       "Crossing              0.000000\n",
       "Give_Way              0.000000\n",
       "Junction              0.000000\n",
       "No_Exit               0.000000\n",
       "Railway               0.000000\n",
       "Roundabout            0.000000\n",
       "Station               0.000000\n",
       "Stop                  0.000000\n",
       "Traffic_Calming       0.000000\n",
       "Traffic_Signal        0.000000\n",
       "Day                   0.300787\n",
       "month                 0.000000\n",
       "dtype: float64"
      ]
     },
     "execution_count": 60,
     "metadata": {},
     "output_type": "execute_result"
    }
   ],
   "source": [
    "df.isna().sum() * 100/ df.shape[0]"
   ]
  },
  {
   "cell_type": "markdown",
   "id": "72534ada-be7f-4a2c-ba56-47915aab320b",
   "metadata": {},
   "source": [
    "<b> Handling Values for Street </b>\n",
    "\n",
    "<p> Approach: Assigning Value 'Uknown' to null records.</p>"
   ]
  },
  {
   "cell_type": "code",
   "execution_count": 62,
   "id": "54986ab6-1582-4698-9cf1-623385cd69e5",
   "metadata": {},
   "outputs": [],
   "source": [
    "df[\"Street\"].fillna(value = \"Uknown\", inplace = True)"
   ]
  },
  {
   "cell_type": "markdown",
   "id": "7fb41dc8-fca8-43e4-af8f-15d68b48398e",
   "metadata": {},
   "source": [
    "<b> Handling Values for City </b>\n",
    "\n",
    "<p> Approach: Dropping the null records due to little proportion.</p>"
   ]
  },
  {
   "cell_type": "code",
   "execution_count": 65,
   "id": "49f56578-3add-4230-83fb-d08439366d8f",
   "metadata": {},
   "outputs": [],
   "source": [
    "df.dropna(subset=['City'], inplace=True)"
   ]
  },
  {
   "cell_type": "markdown",
   "id": "d6cdea37-46e3-4c07-8c6c-9696bbba26b8",
   "metadata": {},
   "source": [
    "<b> Handling Values for Description </b>\n",
    "\n",
    "<p> Approach: Dropping the null records due to little proportion.</p>"
   ]
  },
  {
   "cell_type": "code",
   "execution_count": 67,
   "id": "5131f550-f2c6-4c9d-8513-6a09d79121b2",
   "metadata": {},
   "outputs": [],
   "source": [
    "df.dropna(subset=['Description'], inplace = True)"
   ]
  },
  {
   "cell_type": "markdown",
   "id": "5e683ad8-e3b4-4184-9dcd-4b65a79a753e",
   "metadata": {},
   "source": [
    "<b> Handling Values for Zipcode </b>\n",
    "\n",
    "<p> Approach: Dropping the null records due to little proportion.</p>"
   ]
  },
  {
   "cell_type": "code",
   "execution_count": 69,
   "id": "ecdcbf20-38cb-4a8b-83a8-9fdc40799e3c",
   "metadata": {},
   "outputs": [],
   "source": [
    "df.dropna(subset=['Zipcode'], inplace = True)"
   ]
  },
  {
   "cell_type": "code",
   "execution_count": 70,
   "id": "3166b3d3-3097-40c6-95ef-6a6cb4b2b42d",
   "metadata": {},
   "outputs": [],
   "source": [
    "df[\"Zipcode\"] = df[\"Zipcode\"].astype(\"int64\")"
   ]
  },
  {
   "cell_type": "markdown",
   "id": "b49cfb48-3d3a-4ad0-8f50-8d3ed76486ba",
   "metadata": {},
   "source": [
    "<b> Handling Values for Airport_Code </b>\n",
    "\n",
    "<p> Approach: Dropping the null records due to little proportion.</p>"
   ]
  },
  {
   "cell_type": "code",
   "execution_count": 72,
   "id": "dad03601-f17c-4847-af2a-f9544aac4ccc",
   "metadata": {},
   "outputs": [],
   "source": [
    "df.dropna(subset = ['Airport_Code'], inplace = True)"
   ]
  },
  {
   "cell_type": "markdown",
   "id": "714c9aff-e5cb-45d7-8b5a-f874cc95736d",
   "metadata": {},
   "source": [
    "<b> Handling Values for Temperature(F) </b>\n",
    "\n",
    "<p> Approach: <br>\n",
    "    1. Got the average Temperature(F) for that city in that month based on Day/Night <br>\n",
    "    2. If Still Null Persists, Got the average Temperature(F) for that city based on the Weather_Condition. <br>\n",
    "    3. If Still Null Persists, Dropped It. <br>\n",
    "</p>"
   ]
  },
  {
   "cell_type": "code",
   "execution_count": 75,
   "id": "b9b113b5-c0e0-4be4-b8a3-7148c28a5a6f",
   "metadata": {},
   "outputs": [],
   "source": [
    "def agg_cleaning(df, column):\n",
    "    group_means = df.groupby(['City', 'month', 'Day'])[column].transform('mean')\n",
    "    df[column] = df[column].fillna(group_means)\n",
    "    return df"
   ]
  },
  {
   "cell_type": "code",
   "execution_count": 76,
   "id": "120d0f90-9f6b-4822-bec9-4b475b8e6e12",
   "metadata": {},
   "outputs": [],
   "source": [
    "def cleaning_on_weather(df, column):\n",
    "    group_means = df.groupby(['City', 'Weather_Condition'])[column].transform('mean')\n",
    "    df[column] = df[column].fillna(group_means)\n",
    "    return df"
   ]
  },
  {
   "cell_type": "code",
   "execution_count": 83,
   "id": "e3dd4bb2-1b27-4f76-bbae-a6122989b4ba",
   "metadata": {},
   "outputs": [],
   "source": [
    "df = agg_cleaning(df,'Temperature(F)')\n",
    "df = cleaning_on_weather(df,'Temperature(F)')"
   ]
  },
  {
   "cell_type": "code",
   "execution_count": 84,
   "id": "ffc5ef97-6e66-4962-968a-2813d41297b4",
   "metadata": {},
   "outputs": [],
   "source": [
    "df.dropna(subset=['Temperature(F)'], inplace = True)"
   ]
  },
  {
   "cell_type": "markdown",
   "id": "d6039a60-188a-4966-95f2-e12e65573644",
   "metadata": {},
   "source": [
    "\n",
    "\n",
    "<b> Handling Values for Humidity(%) </b>\n",
    "\n",
    "<p> Approach: <br>\n",
    "    1. Got the average Humidity(%) for that city in that month based on Day/Night <br>\n",
    "    2. If Still Null Persists, Got the average Humidity(%) for that city based on the Weather_Condition. <br>\n",
    "    3. If Still Null Persists, Dropped It. <br>\n",
    "</p>\n"
   ]
  },
  {
   "cell_type": "code",
   "execution_count": 87,
   "id": "37d9b1e7-f2c1-4ae1-a1ad-831062fc4e87",
   "metadata": {},
   "outputs": [],
   "source": [
    "df = agg_cleaning(df, 'Humidity(%)')\n",
    "df = cleaning_on_weather(df, 'Humidity(%)')"
   ]
  },
  {
   "cell_type": "code",
   "execution_count": 88,
   "id": "aea873b1-1f93-4bff-8487-ea3939ac5f42",
   "metadata": {},
   "outputs": [],
   "source": [
    "df.dropna(subset = ['Humidity(%)'], inplace = True)"
   ]
  },
  {
   "cell_type": "markdown",
   "id": "bf5543a1-5232-4173-854e-af3719d2e9dc",
   "metadata": {},
   "source": [
    "<b> Handling Values for Pressure(in) </b>\n",
    "\n",
    "<p> Approach: <br>\n",
    "    1. Got the average Pressure(in) for that city in that month based on Day/Night <br>\n",
    "    2. If Still Null Persists, Got the average Pressure(in) for that city based on the Weather_Condition. <br>\n",
    "    3. If Still Null Persists, Dropped It. <br>\n",
    "</p>\n"
   ]
  },
  {
   "cell_type": "code",
   "execution_count": 93,
   "id": "b03d3cd3-ec3d-4fbb-b02d-f7da770305ec",
   "metadata": {},
   "outputs": [],
   "source": [
    "df = agg_cleaning(df,'Pressure(in)')\n",
    "df = cleaning_on_weather(df, 'Pressure(in)')"
   ]
  },
  {
   "cell_type": "code",
   "execution_count": 94,
   "id": "f6741092-5353-4ef0-9dd4-5b47722e94c3",
   "metadata": {},
   "outputs": [],
   "source": [
    "df.dropna(subset = ['Pressure(in)'], inplace = True)"
   ]
  },
  {
   "cell_type": "markdown",
   "id": "e01a2489-413c-496a-a245-e10625ff8201",
   "metadata": {},
   "source": [
    "<b> Handling Values for Visibility(mi) </b>\n",
    "\n",
    "<p> Approach: <br>\n",
    "    1. Got the average Visibility(mi) for that city in that month based on Day/Night <br>\n",
    "    2. If Still Null Persists, Got the average Visibility(mi) for that city based on the Weather_Condition. <br>\n",
    "    3. If Still Null Persists, Dropped It. <br>\n",
    "</p>"
   ]
  },
  {
   "cell_type": "code",
   "execution_count": 98,
   "id": "e6aff5da-c823-48f2-8c10-c2806148f1d9",
   "metadata": {},
   "outputs": [],
   "source": [
    "df = agg_cleaning(df,'Visibility(mi)')\n",
    "df = cleaning_on_weather(df, 'Visibility(mi)')"
   ]
  },
  {
   "cell_type": "code",
   "execution_count": 99,
   "id": "2b5ae9c2-571d-461c-ac52-3c26ee37d6de",
   "metadata": {},
   "outputs": [],
   "source": [
    "df.dropna(subset = ['Visibility(mi)'], inplace = True)"
   ]
  },
  {
   "cell_type": "markdown",
   "id": "55c0d60b-f90e-4131-b137-952f139a6071",
   "metadata": {},
   "source": [
    "<b> Handling Values for Wind_Speed(mph) </b>\n",
    "\n",
    "<p> Approach: <br>\n",
    "    1. Got the average Wind_Speed(mph) for that city in that month based on Day/Night <br>\n",
    "    2. If Still Null Persists, Got the average Wind_Speed(mph) for that city based on the Weather_Condition. <br>\n",
    "    3. If Still Null Persists, Dropped It. <br>\n",
    "</p>"
   ]
  },
  {
   "cell_type": "code",
   "execution_count": 103,
   "id": "7a9774bd-c6f6-4934-a4e4-cd1ddd5e1e07",
   "metadata": {},
   "outputs": [],
   "source": [
    "df = agg_cleaning(df, 'Wind_Speed(mph)')\n",
    "df = cleaning_on_weather(df, 'Wind_Speed(mph)')"
   ]
  },
  {
   "cell_type": "code",
   "execution_count": 104,
   "id": "bc4af36b-b4d4-494c-8b99-bfd8224533c4",
   "metadata": {},
   "outputs": [],
   "source": [
    "df.dropna(subset = ['Wind_Speed(mph)'], inplace = True)"
   ]
  },
  {
   "cell_type": "markdown",
   "id": "4ba32d27-0055-4a19-a57d-3269754d1641",
   "metadata": {},
   "source": [
    "<b> Handling Values for Precipitation(in) </b>\n",
    "\n",
    "<p> Approach: <br>\n",
    "    1. Based on the weather condition, we replace the null with the average precipitation for a specific weather condition. <br>\n",
    "    2. If Still Null Persists, Got the average Precipitation(in) for that city in that month based on Day/Night <br>\n",
    "    3. If Still Null Persists, Got the average Precipitation(in) for that city based on the Weather_Condition. <br>\n",
    "    4. If Still Null Persists, Dropped It.\n",
    "</p>"
   ]
  },
  {
   "cell_type": "code",
   "execution_count": 107,
   "id": "59d86104-3bda-4ef8-83c2-7c4c2c729bff",
   "metadata": {},
   "outputs": [],
   "source": [
    "def get_average(df, column) :\n",
    "    df[column] = df[column].fillna(df.groupby('Weather_Condition')[column].transform('mean'))\n",
    "    return df"
   ]
  },
  {
   "cell_type": "code",
   "execution_count": 109,
   "id": "91767046-6f92-4e82-bb56-05bd52c857e7",
   "metadata": {},
   "outputs": [],
   "source": [
    "df = get_average(df, 'Precipitation(in)')"
   ]
  },
  {
   "cell_type": "code",
   "execution_count": 111,
   "id": "8e7bf5db-4764-4275-b992-ae93b87fd883",
   "metadata": {},
   "outputs": [],
   "source": [
    "df = agg_cleaning(df, 'Precipitation(in)')\n",
    "df = cleaning_on_weather(df, 'Precipitation(in)')"
   ]
  },
  {
   "cell_type": "code",
   "execution_count": 112,
   "id": "9cde29f9-6afb-4ddd-8f6a-3270aa12a1d0",
   "metadata": {},
   "outputs": [],
   "source": [
    "df.dropna(subset=['Precipitation(in)'], inplace = True)"
   ]
  },
  {
   "cell_type": "markdown",
   "id": "5a8adc7f-9bac-42ca-a359-5c1c7ed9d406",
   "metadata": {},
   "source": [
    "<b> Handling Values for Weather Condition </b>\n",
    "\n",
    "<p> Approach: <br>\n",
    "    1. First we clustered the values in specific buckets <br>\n",
    "    2. We dropped records with N/A Precipitation since it souds ambiguous. <br>\n",
    "</p>"
   ]
  },
  {
   "cell_type": "code",
   "execution_count": 116,
   "id": "9e5a36f6-d8eb-43e5-9dfe-c929e331792e",
   "metadata": {},
   "outputs": [
    {
     "data": {
      "text/plain": [
       "Weather_Condition\n",
       "Fair                                   2560440\n",
       "Mostly Cloudy                          1016067\n",
       "Cloudy                                  817015\n",
       "Clear                                   808309\n",
       "Partly Cloudy                           698863\n",
       "Overcast                                382625\n",
       "Light Rain                              352873\n",
       "Scattered Clouds                        204719\n",
       "Light Snow                              128619\n",
       "Fog                                      99124\n",
       "Rain                                     84295\n",
       "Haze                                     76203\n",
       "Fair / Windy                             35634\n",
       "Heavy Rain                               32299\n",
       "Light Drizzle                            22673\n",
       "Thunder in the Vicinity                  17603\n",
       "Cloudy / Windy                           17022\n",
       "T-Storm                                  16805\n",
       "Mostly Cloudy / Windy                    16506\n",
       "Snow                                     15527\n",
       "Thunder                                  14202\n",
       "Light Rain with Thunder                  13596\n",
       "Smoke                                    12668\n",
       "Wintry Mix                               11703\n",
       "Partly Cloudy / Windy                    10239\n",
       "Heavy T-Storm                             9670\n",
       "Light Rain / Windy                        7945\n",
       "Light Snow / Windy                        6820\n",
       "Heavy Snow                                5000\n",
       "Light Thunderstorms and Rain              4929\n",
       "Drizzle                                   4711\n",
       "Thunderstorm                              4431\n",
       "Patches of Fog                            4142\n",
       "Mist                                      3522\n",
       "Light Freezing Rain                       3451\n",
       "N/A Precipitation                         3240\n",
       "Shallow Fog                               3064\n",
       "Heavy Thunderstorms and Rain              2484\n",
       "Rain / Windy                              2372\n",
       "Thunderstorms and Rain                    2217\n",
       "Haze / Windy                              1591\n",
       "Heavy Rain / Windy                        1522\n",
       "Showers in the Vicinity                   1514\n",
       "Snow / Windy                              1285\n",
       "Light Freezing Drizzle                    1240\n",
       "Heavy T-Storm / Windy                     1095\n",
       "Light Freezing Fog                         989\n",
       "Blowing Snow / Windy                       925\n",
       "Heavy Snow / Windy                         901\n",
       "T-Storm / Windy                            813\n",
       "Blowing Snow                               740\n",
       "Fog / Windy                                732\n",
       "Thunder / Windy                            562\n",
       "Heavy Drizzle                              451\n",
       "Drizzle and Fog                            393\n",
       "Snow and Sleet                             350\n",
       "Wintry Mix / Windy                         331\n",
       "Blowing Dust / Windy                       266\n",
       "Light Ice Pellets                          262\n",
       "Light Rain Shower                          259\n",
       "Light Sleet                                256\n",
       "Light Drizzle / Windy                      239\n",
       "Light Snow and Sleet                       204\n",
       "Freezing Rain                              197\n",
       "Blowing Dust                               189\n",
       "Widespread Dust                            181\n",
       "Light Rain Showers                         157\n",
       "Sleet                                      147\n",
       "Rain Showers                               123\n",
       "Ice Pellets                                101\n",
       "Snow and Sleet / Windy                      96\n",
       "Smoke / Windy                               95\n",
       "Light Freezing Rain / Windy                 81\n",
       "Small Hail                                  75\n",
       "Rain Shower                                 59\n",
       "Sand / Dust Whirlwinds                      51\n",
       "Squalls / Windy                             47\n",
       "Light Snow and Sleet / Windy                45\n",
       "Light Snow Shower                           44\n",
       "Partial Fog                                 40\n",
       "Hail                                        39\n",
       "Light Snow with Thunder                     38\n",
       "Squalls                                     35\n",
       "Heavy Sleet                                 33\n",
       "Freezing Drizzle                            30\n",
       "Thunder / Wintry Mix                        29\n",
       "Sleet / Windy                               25\n",
       "Widespread Dust / Windy                     24\n",
       "Light Snow Showers                          24\n",
       "Drizzle / Windy                             23\n",
       "Light Thunderstorms and Snow                22\n",
       "Volcanic Ash                                22\n",
       "Funnel Cloud                                22\n",
       "Snow and Thunder                            21\n",
       "Tornado                                     19\n",
       "Sand                                        19\n",
       "Freezing Rain / Windy                       18\n",
       "Light Rain Shower / Windy                   16\n",
       "Mist / Windy                                15\n",
       "Light Sleet / Windy                         15\n",
       "Thunder and Hail                            14\n",
       "Heavy Freezing Rain                         11\n",
       "Thunder / Wintry Mix / Windy                10\n",
       "Light Haze                                  10\n",
       "Snow Grains                                  9\n",
       "Heavy Snow with Thunder                      8\n",
       "Heavy Thunderstorms with Small Hail          7\n",
       "Patches of Fog / Windy                       7\n",
       "Heavy Rain Showers                           7\n",
       "Shallow Fog / Windy                          7\n",
       "Drifting Snow / Windy                        6\n",
       "Light Snow Grains                            6\n",
       "Sand / Dust Whirls Nearby                    6\n",
       "Low Drifting Snow                            5\n",
       "Heavy Freezing Drizzle                       5\n",
       "Heavy Thunderstorms and Snow                 5\n",
       "Light Fog                                    4\n",
       "Light Snow Shower / Windy                    4\n",
       "Heavy Ice Pellets                            4\n",
       "Sleet and Thunder                            4\n",
       "Sand / Dust Whirlwinds / Windy               4\n",
       "Heavy Blowing Snow                           4\n",
       "Light Thunderstorm                           3\n",
       "Heavy Rain Shower                            3\n",
       "Rain Shower / Windy                          3\n",
       "Thunderstorms and Snow                       3\n",
       "Light Blowing Snow                           3\n",
       "Duststorm                                    3\n",
       "Light Hail                                   3\n",
       "Blowing Sand                                 2\n",
       "Heavy Sleet and Thunder                      2\n",
       "Rain and Sleet                               2\n",
       "Thunder and Hail / Windy                     2\n",
       "Snow and Thunder / Windy                     2\n",
       "Heavy Sleet / Windy                          1\n",
       "Blowing Snow Nearby                          1\n",
       "Heavy Rain Shower / Windy                    1\n",
       "Sand / Windy                                 1\n",
       "Heavy Smoke                                  1\n",
       "Snow Showers                                 1\n",
       "Partial Fog / Windy                          1\n",
       "Dust Whirls                                  1\n",
       "Heavy Freezing Rain / Windy                  1\n",
       "Drifting Snow                                1\n",
       "Name: count, dtype: int64"
      ]
     },
     "execution_count": 116,
     "metadata": {},
     "output_type": "execute_result"
    }
   ],
   "source": [
    "df[\"Weather_Condition\"].value_counts()"
   ]
  },
  {
   "cell_type": "code",
   "execution_count": 118,
   "id": "e754ddb5-e6ab-42c2-b37a-04cbd7c1f677",
   "metadata": {},
   "outputs": [],
   "source": [
    "df.replace(to_replace = [\"Clear\", \"Fair / Windy\"], value = \"Fair\",inplace = True)\n",
    "df.replace(to_replace = [\"Mostly Cloudy\", \"Partly Cloudy\", \"Overcast\", \"Scattered Clouds\", \"Mostly Cloudy / Windy\", \"Cloudy / Windy\", \"Partly Cloudy / Windy\"], value = \"Cloudy\",inplace = True)\n",
    "df.replace(to_replace = [\"Light Rain\", \"Heavy Rain\", \"Drizzle\", \"Light Drizzle\",\"Showers in the Vicinity\", \"Heavy Drizzle\", \"Drizzle and Fog\", \"Rain / Windy\", \"Heavy Rain / Windy\", \"Light Rain\", \"Rain\", \"Drizzle\", \"Heavy Rain\", \"Light Drizzle\", \"Rain Showers\", \"Light Rain Shower\", \"Rain Shower\", \"Heavy Rain Shower\", \"Light Rain / Windy\", \"Rain / Windy\", \"Light Freezing Rain\", \"Heavy Freezing Rain\", \"Freezing Rain\", \"Light Freezing Rain / Windy\", \"Freezing Rain / Windy\", \"Freezing Drizzle\", \"Heavy Freezing Drizzle\", \"Light Freezing Drizzle\", \"Light Drizzle / Windy\", \"Light Rain Showers\", \"Drizzle / Windy\", \"Light Rain Shower / Windy\", \"Heavy Rain Showers\", \"Rain Shower / Windy\", \"Rain and Sleet\", \"Heavy Freezing Rain / Windy\", \"Heavy Rain Shower / Windy\"], value = \"Rain\",inplace = True)\n",
    "df.replace(to_replace = [\"Light Snow\", \"Heavy Snow\", \"Light Snow / Windy\", \"Snow / Windy\", \"Heavy Snow / Windy\", \"Blowing Snow\", \"Blowing Snow / Windy\", \"Snow\", \"Light Snow\", \"Snow Showers\", \"Heavy Snow\", \"Sleet\", \"Light Sleet\", \"Snow and Sleet\", \"Light Snow and Sleet\", \"Snow and Sleet / Windy\", \"Heavy Snow with Thunder\", \"Light Snow Shower\", \"Snow and Thunder\", \"Snow and Thunder / Windy\", \"Low Drifting Snow\", \"Drifting Snow / Windy\", \"Blowing Snow\", \"Blowing Snow / Windy\", \"Heavy Blowing Snow\", \"Small Hail\", \"Hail\", \"Heavy Ice Pellets\", \"Light Ice Pellets\", \"Ice Pellets\", \"Heavy Sleet\", \"Heavy Sleet / Windy\", \"Sleet and Thunder\", \"Snow Grains\", \"Light Snow Grains\", \"Light Snow and Sleet / Windy\",\"Light Snow with Thunder\",\"Sleet / Windy\",\"Light Snow Showers\",\"Light Sleet / Windy\",\"Light Snow Shower / Windy\",\"Light Hail\",\"Light Blowing Snow\",\"Blowing Snow Nearby\",\"Drifting Snow\"], value = \"Snow\",inplace = True)\n",
    "df.replace(to_replace=[ \"Thunder\", \"T-Storm\", \"Thunderstorm\", \"Light Thunderstorm\", \"Heavy T-Storm\", \"Heavy T-Storm / Windy\", \"Thunder in the Vicinity\", \"Thunderstorms and Rain\", \"Light Thunderstorms and Rain\", \"Heavy Thunderstorms and Rain\", \"Thunder / Windy\", \"T-Storm / Windy\", \"Thunder and Hail\", \"Thunder and Hail / Windy\", \"Thunderstorms and Snow\", \"Heavy Thunderstorms and Snow\", \"Light Thunderstorms and Snow\", \"Thunder / Wintry Mix\", \"Thunder / Wintry Mix / Windy\", \"Light Rain with Thunder\",\"Heavy Thunderstorms with Small Hail\"], value=\"Thunderstorms\", inplace=True) \n",
    "df.replace(to_replace=[ \"Fog\", \"Fog / Windy\", \"Mist\", \"Mist / Windy\", \"Light Fog\", \"Patches of Fog\", \"Patches of Fog / Windy\", \"Shallow Fog\", \"Shallow Fog / Windy\", \"Haze\", \"Light Haze\", \"Haze / Windy\", \"Smoke\", \"Light Freezing Fog\",\"Blowing Dust / Windy\",\"Smoke / Windy\",\"Partial Fog\",\"Blowing Sand\", \"Partial Fog / Windy\"], value=\"Fog\", inplace=True) \n",
    "df.replace(to_replace=[ \"Volcanic Ash\", \"Funnel Cloud\", \"Tornado\", \"Squalls\", \"Squalls / Windy\", \"Sand / Dust Whirls Nearby\", \"Sand / Dust Whirlwinds\", \"Sand / Dust Whirlwinds / Windy\", \"Sand\", \"Sand / Windy\", \"Blowing Dust\", \"Widespread Dust\", \"Widespread Dust / Windy\", \"Duststorm\", \"Dust Whirls\", \"Wintry Mix\", \"Wintry Mix / Windy\", \"Heavy Smoke\", \"Heavy Sleet and Thunder\"], value=\"Extreme\", inplace=True) "
   ]
  },
  {
   "cell_type": "code",
   "execution_count": 119,
   "id": "57b6d5e3-1841-463a-8142-3d4ac39ccddb",
   "metadata": {},
   "outputs": [],
   "source": [
    "df.drop(df[df['Weather_Condition'] == \"N/A Precipitation\"].index, inplace=True)"
   ]
  },
  {
   "cell_type": "code",
   "execution_count": 109,
   "id": "03078eb1-c1f6-4268-9f42-8e7140753d22",
   "metadata": {},
   "outputs": [
    {
     "data": {
      "text/plain": [
       "Weather_Condition\n",
       "Fair             3404383\n",
       "Cloudy           3163056\n",
       "Rain              516974\n",
       "Fog               202482\n",
       "Snow              161654\n",
       "NaN               127315\n",
       "Thunderstorms      88502\n",
       "Extreme            12661\n",
       "Name: count, dtype: int64"
      ]
     },
     "execution_count": 109,
     "metadata": {},
     "output_type": "execute_result"
    }
   ],
   "source": [
    "df[\"Weather_Condition\"].value_counts(dropna = False)"
   ]
  },
  {
   "cell_type": "code",
   "execution_count": 122,
   "id": "0a3259e2-16cb-4502-80c9-18d17f2b06af",
   "metadata": {},
   "outputs": [],
   "source": [
    "df.dropna(subset = ['Weather_Condition'], inplace = True)"
   ]
  },
  {
   "cell_type": "markdown",
   "id": "b9f2c742-99c5-4d72-b0e3-e5978eda2c62",
   "metadata": {},
   "source": [
    "<b> Handling Values for Day </b>\n",
    "\n",
    "<p> Approach: <br>\n",
    "    1. Calculating the average time of accidents when it is a Day/Night and replacing the null.<br>\n",
    "</p>"
   ]
  },
  {
   "cell_type": "code",
   "execution_count": 123,
   "id": "31ea67a2-8c92-46ad-ba86-61ac8bb391d4",
   "metadata": {},
   "outputs": [],
   "source": [
    "df[\"Hour_of_Day\"] = df[\"Start_Time\"].dt.hour"
   ]
  },
  {
   "cell_type": "code",
   "execution_count": 126,
   "id": "ceac4278-6c2c-4ffe-a04d-129eadf062fa",
   "metadata": {},
   "outputs": [],
   "source": [
    "avg_justtime = (\n",
    "    df[df['Day'] == True]\n",
    "    .groupby(['City', 'month'])['Hour_of_Day']\n",
    "    .mean()\n",
    "    .reset_index()\n",
    "    .rename(columns={'Hour_of_Day': 'avg_time_to_be_called_day_based_on_starttime'})\n",
    ")"
   ]
  },
  {
   "cell_type": "code",
   "execution_count": 128,
   "id": "de2af9c5-ecb4-41c3-b59e-4e2ab5142d0e",
   "metadata": {},
   "outputs": [],
   "source": [
    "df = df.merge(avg_justtime, on=['City', 'month'], how='left')"
   ]
  },
  {
   "cell_type": "code",
   "execution_count": 130,
   "id": "1581b0dd-2aea-414c-8ffe-6cece1635958",
   "metadata": {},
   "outputs": [],
   "source": [
    "def clean_day(row):\n",
    "    if pd.isnull(row['Day']):  \n",
    "        if row['Hour_of_Day'] > row['avg_time_to_be_called_day_based_on_starttime']:  \n",
    "            return False\n",
    "        else:\n",
    "            return True\n",
    "    return row['Day'] "
   ]
  },
  {
   "cell_type": "code",
   "execution_count": 132,
   "id": "7cc04683-64df-43db-a05f-4478d6bb55a9",
   "metadata": {},
   "outputs": [],
   "source": [
    "df['Day'] = df.apply(clean_day, axis=1)"
   ]
  },
  {
   "cell_type": "code",
   "execution_count": 133,
   "id": "ece63843-6586-486e-86ed-9e170ed36fc3",
   "metadata": {},
   "outputs": [],
   "source": [
    "df.drop(columns = ['avg_time_to_be_called_day_based_on_starttime'], inplace = True)"
   ]
  },
  {
   "cell_type": "code",
   "execution_count": 134,
   "id": "1f8135ad-6396-4678-94ae-0bb3950d2b32",
   "metadata": {},
   "outputs": [
    {
     "data": {
      "text/plain": [
       "Severity             0\n",
       "Start_Time           0\n",
       "End_Time             0\n",
       "Start_Lat            0\n",
       "Start_Lng            0\n",
       "Distance(mi)         0\n",
       "Description          0\n",
       "Street               0\n",
       "City                 0\n",
       "State                0\n",
       "Zipcode              0\n",
       "Airport_Code         0\n",
       "Temperature(F)       0\n",
       "Humidity(%)          0\n",
       "Pressure(in)         0\n",
       "Visibility(mi)       0\n",
       "Wind_Speed(mph)      0\n",
       "Precipitation(in)    0\n",
       "Weather_Condition    0\n",
       "Amenity              0\n",
       "Bump                 0\n",
       "Crossing             0\n",
       "Give_Way             0\n",
       "Junction             0\n",
       "No_Exit              0\n",
       "Railway              0\n",
       "Roundabout           0\n",
       "Station              0\n",
       "Stop                 0\n",
       "Traffic_Calming      0\n",
       "Traffic_Signal       0\n",
       "Day                  0\n",
       "month                0\n",
       "Hour_of_Day          0\n",
       "dtype: int64"
      ]
     },
     "execution_count": 134,
     "metadata": {},
     "output_type": "execute_result"
    }
   ],
   "source": [
    "df.isna().sum()"
   ]
  },
  {
   "cell_type": "code",
   "execution_count": 138,
   "id": "386d76ac-9472-4780-946b-1217537e35d5",
   "metadata": {},
   "outputs": [
    {
     "data": {
      "text/plain": [
       "(7549712, 34)"
      ]
     },
     "execution_count": 138,
     "metadata": {},
     "output_type": "execute_result"
    }
   ],
   "source": [
    "df.shape"
   ]
  },
  {
   "cell_type": "markdown",
   "id": "fc73a096-0839-41a0-8ceb-78a7cb51d900",
   "metadata": {},
   "source": [
    "<h3> Cleaning Textual Columns </h3>"
   ]
  },
  {
   "cell_type": "code",
   "execution_count": 131,
   "id": "f45d665f-d3b9-4508-82ee-5b6e5bc95e61",
   "metadata": {},
   "outputs": [],
   "source": [
    "def clean_text(text):\n",
    "    return \" \".join(text.lower().split())"
   ]
  },
  {
   "cell_type": "code",
   "execution_count": 133,
   "id": "a67b428c-5855-43f4-832a-25c4a72a2483",
   "metadata": {},
   "outputs": [],
   "source": [
    "df['Street'] = df['Street'].apply(clean_text)\n",
    "df['City'] = df['City'].apply(clean_text)\n",
    "df['State'] = df['State'].apply(clean_text)\n",
    "df['Airport_Code'] = df['Airport_Code'].apply(clean_text)"
   ]
  },
  {
   "cell_type": "code",
   "execution_count": 134,
   "id": "7aaa7d6d-04ca-4d76-a438-17d875e3e3df",
   "metadata": {},
   "outputs": [],
   "source": [
    "df.to_pickle('cleaned.pkl')"
   ]
  },
  {
   "cell_type": "markdown",
   "id": "e66b3226-eaf3-4d35-b622-d582d24ae873",
   "metadata": {},
   "source": [
    "<h3> Treating Outliers </h3>"
   ]
  },
  {
   "cell_type": "code",
   "execution_count": 231,
   "id": "cb144d9d-22a1-4eeb-b516-1177c168e6e4",
   "metadata": {},
   "outputs": [
    {
     "data": {
      "text/plain": [
       "Index(['Severity', 'Start_Time', 'End_Time', 'Start_Lat', 'Start_Lng',\n",
       "       'Distance(mi)', 'Description', 'Street', 'City', 'State', 'Zipcode',\n",
       "       'Airport_Code', 'Temperature(F)', 'Humidity(%)', 'Pressure(in)',\n",
       "       'Visibility(mi)', 'Wind_Speed(mph)', 'Precipitation(in)',\n",
       "       'Weather_Condition', 'Amenity', 'Bump', 'Crossing', 'Give_Way',\n",
       "       'Junction', 'No_Exit', 'Railway', 'Roundabout', 'Station', 'Stop',\n",
       "       'Traffic_Calming', 'Traffic_Signal', 'Day', 'month', 'hour'],\n",
       "      dtype='object')"
      ]
     },
     "execution_count": 231,
     "metadata": {},
     "output_type": "execute_result"
    }
   ],
   "source": [
    "df.columns"
   ]
  },
  {
   "cell_type": "markdown",
   "id": "445a629d-f2ac-4419-b567-18082ab4418b",
   "metadata": {},
   "source": [
    "<b> For Severity"
   ]
  },
  {
   "cell_type": "code",
   "execution_count": 155,
   "id": "0d58ff49-f3dd-4724-83c9-91e7ead8e7ea",
   "metadata": {},
   "outputs": [
    {
     "name": "stdout",
     "output_type": "stream",
     "text": [
      "Unique values and their counts in 'Severity':\n",
      "Severity\n",
      "2    6017961\n",
      "3    1268683\n",
      "4     196662\n",
      "1      66406\n",
      "Name: count, dtype: int64\n"
     ]
    }
   ],
   "source": [
    "severity_counts = df['Severity'].value_counts()\n",
    "print(\"Unique values and their counts in 'Severity':\")\n",
    "print(severity_counts)"
   ]
  },
  {
   "cell_type": "code",
   "execution_count": 157,
   "id": "c0c86f00-88c7-46e5-8f18-9ca9f196519e",
   "metadata": {},
   "outputs": [
    {
     "data": {
      "image/png": "[encoded data removed]",
      "text/plain": [
       "<Figure size 800x500 with 1 Axes>"
      ]
     },
     "metadata": {},
     "output_type": "display_data"
    }
   ],
   "source": [
    "plt.figure(figsize=(8, 5))\n",
    "sns.countplot(data=df, x='Severity', palette='viridis')\n",
    "plt.title(\"Distribution of Severity Levels\")\n",
    "plt.xlabel(\"Severity\")\n",
    "plt.ylabel(\"Count\")\n",
    "plt.xticks(rotation=0)\n",
    "plt.show()"
   ]
  },
  {
   "cell_type": "markdown",
   "id": "7fd9f420-248b-4858-9889-e6ac565af2e2",
   "metadata": {},
   "source": [
    "<b> For Temperature"
   ]
  },
  {
   "cell_type": "code",
   "execution_count": 140,
   "id": "a4d4378c-d70d-4b9d-b5c3-de3441c30f20",
   "metadata": {},
   "outputs": [
    {
     "data": {
      "image/png": "[encoded data removed]",
      "text/plain": [
       "<Figure size 800x500 with 1 Axes>"
      ]
     },
     "metadata": {},
     "output_type": "display_data"
    }
   ],
   "source": [
    "plt.figure(figsize=(8, 5))\n",
    "sns.histplot(df['Temperature(F)'].dropna(), bins=30, kde=True, color='blue')\n",
    "plt.title('Distribution of Temperature (F)')\n",
    "plt.xlabel('Temperature (F)')\n",
    "plt.ylabel('Frequency')\n",
    "plt.gcf().savefig(\"Temp_Outlier.png\")\n",
    "plt.show()"
   ]
  },
  {
   "cell_type": "code",
   "execution_count": 160,
   "id": "85101136-737e-47ca-9a53-363beaf7d0b2",
   "metadata": {},
   "outputs": [
    {
     "name": "stdout",
     "output_type": "stream",
     "text": [
      "Summary Statistics for Temperature(F):\n",
      "count    7.549712e+06\n",
      "mean     6.170337e+01\n",
      "std      1.897933e+01\n",
      "min     -8.900000e+01\n",
      "25%      4.900000e+01\n",
      "50%      6.400000e+01\n",
      "75%      7.600000e+01\n",
      "max      2.070000e+02\n",
      "Name: Temperature(F), dtype: float64\n"
     ]
    }
   ],
   "source": [
    "temperature_stats = df['Temperature(F)'].describe()\n",
    "print(\"Summary Statistics for Temperature(F):\")\n",
    "print(temperature_stats)"
   ]
  },
  {
   "cell_type": "code",
   "execution_count": 161,
   "id": "4fb64dea-88f5-4409-a394-4e7fb8ad08a5",
   "metadata": {},
   "outputs": [
    {
     "data": {
      "text/plain": [
       "1507306   -89.0\n",
       "1507308   -89.0\n",
       "1507310   -89.0\n",
       "1507312   -89.0\n",
       "1507313   -89.0\n",
       "1507315   -89.0\n",
       "1507316   -89.0\n",
       "1507317   -89.0\n",
       "6943963   -89.0\n",
       "6943969   -89.0\n",
       "Name: Temperature(F), dtype: float64"
      ]
     },
     "execution_count": 161,
     "metadata": {},
     "output_type": "execute_result"
    }
   ],
   "source": [
    "df[\"Temperature(F)\"].nsmallest(10)"
   ]
  },
  {
   "cell_type": "code",
   "execution_count": 162,
   "id": "8ed99409-cf62-444c-b538-7e8eca540c78",
   "metadata": {},
   "outputs": [
    {
     "data": {
      "text/plain": [
       "4121883    207.0\n",
       "4451773    207.0\n",
       "4922942    207.0\n",
       "1354937    203.0\n",
       "911675     196.0\n",
       "911743     196.0\n",
       "5480192    196.0\n",
       "5722770    196.0\n",
       "5882206    196.0\n",
       "1254863    189.0\n",
       "Name: Temperature(F), dtype: float64"
      ]
     },
     "execution_count": 162,
     "metadata": {},
     "output_type": "execute_result"
    }
   ],
   "source": [
    "df[\"Temperature(F)\"].nlargest(10)"
   ]
  },
  {
   "cell_type": "markdown",
   "id": "6be1cdab-66fa-441e-b450-45f27897d163",
   "metadata": {},
   "source": [
    "<p> This are clearly outliers, we will simply drop those</p>"
   ]
  },
  {
   "cell_type": "code",
   "execution_count": 168,
   "id": "2740dbe8-b54a-483b-9392-2e67b70d1969",
   "metadata": {},
   "outputs": [],
   "source": [
    "df = df[(df['Temperature(F)'] > -50) & (df['Temperature(F)'] < 120)]"
   ]
  },
  {
   "cell_type": "markdown",
   "id": "da997861-ee55-45ca-92c5-be909c013d7d",
   "metadata": {},
   "source": [
    "<b> For Humidity(%)"
   ]
  },
  {
   "cell_type": "code",
   "execution_count": 172,
   "id": "c388347a-3548-4df5-bc2f-49cf6a780135",
   "metadata": {},
   "outputs": [
    {
     "data": {
      "image/png": "[encoded data removed]",
      "text/plain": [
       "<Figure size 800x500 with 1 Axes>"
      ]
     },
     "metadata": {},
     "output_type": "display_data"
    }
   ],
   "source": [
    "plt.figure(figsize=(8, 5))\n",
    "sns.histplot(df['Humidity(%)'].dropna(), bins=30, kde=True, color='blue')\n",
    "plt.title('Distribution of Humidity (%)')\n",
    "plt.xlabel('Humidity (%))')\n",
    "plt.ylabel('Frequency')\n",
    "plt.show()"
   ]
  },
  {
   "cell_type": "code",
   "execution_count": 174,
   "id": "69b20cff-5ce3-4778-a74b-3c9a03ce0d01",
   "metadata": {},
   "outputs": [
    {
     "name": "stdout",
     "output_type": "stream",
     "text": [
      "Summary Statistics for Humidity(%):\n",
      "count    7.549629e+06\n",
      "mean     6.482916e+01\n",
      "std      2.278877e+01\n",
      "min      1.000000e+00\n",
      "25%      4.800000e+01\n",
      "50%      6.700000e+01\n",
      "75%      8.400000e+01\n",
      "max      1.000000e+02\n",
      "Name: Humidity(%), dtype: float64\n"
     ]
    }
   ],
   "source": [
    "humidity_stats = df['Humidity(%)'].describe()\n",
    "print(\"Summary Statistics for Humidity(%):\")\n",
    "print(humidity_stats)"
   ]
  },
  {
   "cell_type": "markdown",
   "id": "9fbe7d8a-9e43-4ade-9b77-0c58b73b39a9",
   "metadata": {},
   "source": [
    "<p> No Outlier Detected </p>"
   ]
  },
  {
   "cell_type": "markdown",
   "id": "5dbc6f5e-471f-4f8c-90c6-06e4e5d23dc6",
   "metadata": {},
   "source": [
    "<b> For Pressure(in)"
   ]
  },
  {
   "cell_type": "code",
   "execution_count": 142,
   "id": "f52b3bc2-5c81-484c-8e57-800903ae307c",
   "metadata": {},
   "outputs": [
    {
     "data": {
      "image/png": "[encoded data removed]",
      "text/plain": [
       "<Figure size 800x500 with 1 Axes>"
      ]
     },
     "metadata": {},
     "output_type": "display_data"
    }
   ],
   "source": [
    "plt.figure(figsize=(8, 5))\n",
    "sns.histplot(df['Pressure(in)'].dropna(), bins=30, kde=True, color='blue')\n",
    "plt.title('Distribution of Pressure (in)')\n",
    "plt.xlabel('Pressure (in)')\n",
    "plt.ylabel('Frequency')\n",
    "plt.gcf().savefig(\"Pressure_outlier.png\")\n",
    "plt.show()"
   ]
  },
  {
   "cell_type": "code",
   "execution_count": 180,
   "id": "ec3701e8-a134-4f63-82b6-19c6caba21df",
   "metadata": {},
   "outputs": [
    {
     "name": "stdout",
     "output_type": "stream",
     "text": [
      "Summary Statistics for Pressure(in):\n",
      "count    7.549629e+06\n",
      "mean     2.953978e+01\n",
      "std      1.002766e+00\n",
      "min      0.000000e+00\n",
      "25%      2.937000e+01\n",
      "50%      2.986000e+01\n",
      "75%      3.003000e+01\n",
      "max      5.863000e+01\n",
      "Name: Pressure(in), dtype: float64\n"
     ]
    }
   ],
   "source": [
    "pressure_stats = df['Pressure(in)'].describe()\n",
    "print(\"Summary Statistics for Pressure(in):\")\n",
    "print(pressure_stats)"
   ]
  },
  {
   "cell_type": "markdown",
   "id": "116c5d72-f90a-4527-9b96-42b5847626c2",
   "metadata": {},
   "source": [
    "<p> Pressure can not be 0, let us remove those records </p>"
   ]
  },
  {
   "cell_type": "code",
   "execution_count": 144,
   "id": "7b016011-805a-43c5-a354-8b12dcbad71b",
   "metadata": {},
   "outputs": [],
   "source": [
    "df = df[df[\"Pressure(in)\"] > 0]"
   ]
  },
  {
   "cell_type": "markdown",
   "id": "237e8ba6-b360-4b9b-bff6-4e1074bf5605",
   "metadata": {},
   "source": [
    "<b> For Visibility(mi)"
   ]
  },
  {
   "cell_type": "code",
   "execution_count": 185,
   "id": "c197b504-9481-4e18-81d0-396f0b3c81a6",
   "metadata": {},
   "outputs": [
    {
     "data": {
      "image/png": "[encoded data removed]",
      "text/plain": [
       "<Figure size 800x500 with 1 Axes>"
      ]
     },
     "metadata": {},
     "output_type": "display_data"
    }
   ],
   "source": [
    "plt.figure(figsize=(8, 5))\n",
    "sns.histplot(df['Visibility(mi)'].dropna(), bins=30, kde=True, color='blue')\n",
    "plt.title('Distribution of Visibility(mi)')\n",
    "plt.xlabel('Visibility(mi)')\n",
    "plt.ylabel('Frequency')\n",
    "plt.show()"
   ]
  },
  {
   "cell_type": "code",
   "execution_count": 187,
   "id": "4c045b1b-0765-4c4f-b6b4-03b696791b76",
   "metadata": {},
   "outputs": [
    {
     "name": "stdout",
     "output_type": "stream",
     "text": [
      "Summary Statistics for Visibility(mi):\n",
      "count    7.549627e+06\n",
      "mean     9.090997e+00\n",
      "std      2.682279e+00\n",
      "min      0.000000e+00\n",
      "25%      1.000000e+01\n",
      "50%      1.000000e+01\n",
      "75%      1.000000e+01\n",
      "max      1.400000e+02\n",
      "Name: Visibility(mi), dtype: float64\n"
     ]
    }
   ],
   "source": [
    "visibility_stats = df['Visibility(mi)'].describe()\n",
    "print(\"Summary Statistics for Visibility(mi):\")\n",
    "print(visibility_stats)"
   ]
  },
  {
   "cell_type": "markdown",
   "id": "fcc970f0-0c29-4828-8b3e-ebc003c10aab",
   "metadata": {},
   "source": [
    "<p> No Outlier Detected </p>"
   ]
  },
  {
   "cell_type": "markdown",
   "id": "2da79031-252d-4107-a8fb-f678f206c1e2",
   "metadata": {},
   "source": [
    "<b> For Wind_Speed(mph)"
   ]
  },
  {
   "cell_type": "code",
   "execution_count": 146,
   "id": "313c74a6-bda9-4bd4-ba0b-43bdc5cc3280",
   "metadata": {},
   "outputs": [
    {
     "data": {
      "image/png": "[encoded data removed]",
      "text/plain": [
       "<Figure size 800x500 with 1 Axes>"
      ]
     },
     "metadata": {},
     "output_type": "display_data"
    }
   ],
   "source": [
    "plt.figure(figsize=(8, 5))\n",
    "sns.histplot(df['Wind_Speed(mph)'].dropna(), bins=30, kde=True, color='blue')\n",
    "plt.title('Distribution of Wind_Speed(mph)')\n",
    "plt.xlabel('Wind_Speed(mph)')\n",
    "plt.ylabel('Frequency')\n",
    "plt.gcf().savefig(\"WindSpeed_Outlier.png\")\n",
    "plt.show()"
   ]
  },
  {
   "cell_type": "code",
   "execution_count": 193,
   "id": "ccd40e0a-647d-470f-9b75-a6d650014244",
   "metadata": {},
   "outputs": [
    {
     "name": "stdout",
     "output_type": "stream",
     "text": [
      "Summary Statistics for Wind_Speed(mph):\n",
      "count    7.549627e+06\n",
      "mean     7.624073e+00\n",
      "std      5.302822e+00\n",
      "min      0.000000e+00\n",
      "25%      4.600000e+00\n",
      "50%      7.000000e+00\n",
      "75%      1.000000e+01\n",
      "max      1.087000e+03\n",
      "Name: Wind_Speed(mph), dtype: float64\n"
     ]
    }
   ],
   "source": [
    "wind_stats = df['Wind_Speed(mph)'].describe()\n",
    "print(\"Summary Statistics for Wind_Speed(mph):\")\n",
    "print(wind_stats)"
   ]
  },
  {
   "cell_type": "markdown",
   "id": "1e4b65c8-bd5e-4a83-a9be-5208d6e166da",
   "metadata": {},
   "source": [
    "<p>Keeping wind_speed less than 200, others are clearly outliers </p>"
   ]
  },
  {
   "cell_type": "code",
   "execution_count": 148,
   "id": "a7332be8-3d23-4407-b95c-5e669b54854e",
   "metadata": {},
   "outputs": [],
   "source": [
    "df = df[df[\"Wind_Speed(mph)\"] <= 200]"
   ]
  },
  {
   "cell_type": "markdown",
   "id": "c7ec7a9d-eb12-453b-b68e-4385b809c384",
   "metadata": {},
   "source": [
    "<b> For Precipitation"
   ]
  },
  {
   "cell_type": "code",
   "execution_count": 201,
   "id": "9aa42f71-8e3d-4afb-84b6-79abb3a3c81b",
   "metadata": {},
   "outputs": [
    {
     "data": {
      "image/png": "[encoded data removed]",
      "text/plain": [
       "<Figure size 800x500 with 1 Axes>"
      ]
     },
     "metadata": {},
     "output_type": "display_data"
    }
   ],
   "source": [
    "plt.figure(figsize=(8, 5))\n",
    "sns.histplot(df['Precipitation(in)'].dropna(), bins=30, kde=True, color='blue')\n",
    "plt.title('Distribution of Precipitation (in)')\n",
    "plt.xlabel('Precipitation (in)')\n",
    "plt.ylabel('Frequency')\n",
    "plt.show()"
   ]
  },
  {
   "cell_type": "code",
   "execution_count": 202,
   "id": "8a42002f-dad0-445b-95a0-e95aabdb2c85",
   "metadata": {},
   "outputs": [
    {
     "name": "stdout",
     "output_type": "stream",
     "text": [
      "Summary Statistics for Precipitation (in):\n",
      "count    7.549593e+06\n",
      "mean     4.680640e-02\n",
      "std      1.376474e-01\n",
      "min      0.000000e+00\n",
      "25%      0.000000e+00\n",
      "50%      0.000000e+00\n",
      "75%      1.000000e-02\n",
      "max      3.647000e+01\n",
      "Name: Precipitation(in), dtype: float64\n"
     ]
    }
   ],
   "source": [
    "prep_stats = df['Precipitation(in)'].describe()\n",
    "print(\"Summary Statistics for Precipitation (in):\")\n",
    "print(prep_stats)"
   ]
  },
  {
   "cell_type": "markdown",
   "id": "57fc39b4-67ed-4f1e-8359-fc47d3409adc",
   "metadata": {},
   "source": [
    "<p> No Outliers Detected"
   ]
  },
  {
   "cell_type": "code",
   "execution_count": 150,
   "id": "f992b462-ba4e-47ca-9654-d88dfcb1a125",
   "metadata": {},
   "outputs": [
    {
     "data": {
      "text/plain": [
       "(7549676, 34)"
      ]
     },
     "execution_count": 150,
     "metadata": {},
     "output_type": "execute_result"
    }
   ],
   "source": [
    "df.shape"
   ]
  },
  {
   "cell_type": "markdown",
   "id": "37a9b1d1-e89d-4272-9a08-a60ac0f35de5",
   "metadata": {},
   "source": [
    "<h3> Binning & Feature Engineering </h3>"
   ]
  },
  {
   "cell_type": "code",
   "execution_count": 154,
   "id": "3ff353e2-197e-467b-b6a5-8c85b2d608b9",
   "metadata": {},
   "outputs": [],
   "source": [
    "df[\"Year\"] = df[\"Start_Time\"].dt.year"
   ]
  },
  {
   "cell_type": "code",
   "execution_count": 155,
   "id": "1e04b0d0-f20a-451d-9d7a-3667f92e7f83",
   "metadata": {},
   "outputs": [],
   "source": [
    "df['Day_of_Week'] = df['Start_Time'].dt.dayofweek  # Monday=0, Sunday=6\n",
    "df['Is_Weekend'] = df['Day_of_Week'].isin([5, 6])"
   ]
  },
  {
   "cell_type": "code",
   "execution_count": 158,
   "id": "3b89721e-bc44-4a54-9f1c-9ff556a2c032",
   "metadata": {},
   "outputs": [],
   "source": [
    "df[\"Is_Weekend\"].replace(False, 0, inplace = True)\n",
    "df[\"Is_Weekend\"].replace(True, 1, inplace = True)"
   ]
  },
  {
   "cell_type": "code",
   "execution_count": 159,
   "id": "7a114ee3-90ec-4a2d-96b0-92276930a805",
   "metadata": {},
   "outputs": [],
   "source": [
    "temperature_bins = [-float('inf'), 32, 50, 70, 90, float('inf')]\n",
    "temperature_labels = ['Very Cold', 'Cold', 'Moderate', 'Hot', 'Very Hot']"
   ]
  },
  {
   "cell_type": "code",
   "execution_count": 162,
   "id": "afe2ea6e-24ff-4971-b114-71e48c73671a",
   "metadata": {},
   "outputs": [],
   "source": [
    "df['Temperature_Category'] = pd.cut(df['Temperature(F)'], bins=temperature_bins, labels=temperature_labels, include_lowest=True)"
   ]
  },
  {
   "cell_type": "code",
   "execution_count": 166,
   "id": "4fbcb437-a7d8-44cd-9664-641e94251f2b",
   "metadata": {},
   "outputs": [],
   "source": [
    "distance_bins = [-float('inf'), 5, 20, float('inf')]\n",
    "distance_labels = ['Short', 'Medium', 'Long']"
   ]
  },
  {
   "cell_type": "code",
   "execution_count": 168,
   "id": "bfe56e72-998a-42c3-8e5b-a3730e9a2896",
   "metadata": {},
   "outputs": [],
   "source": [
    "df['Distance_Category'] = pd.cut(df['Distance(mi)'], bins=distance_bins, labels=distance_labels, include_lowest=True)"
   ]
  },
  {
   "cell_type": "code",
   "execution_count": 170,
   "id": "86b600f9-0307-4739-ab80-063e1a1bfc2e",
   "metadata": {},
   "outputs": [],
   "source": [
    "humidity_bins = [-float('inf'), 40, 70, 100]\n",
    "humidity_labels = ['Low', 'Medium', 'High']"
   ]
  },
  {
   "cell_type": "code",
   "execution_count": 172,
   "id": "b4b7c0e3-bc9b-45c8-a895-f2bfa3d940d7",
   "metadata": {},
   "outputs": [],
   "source": [
    "df['Humidity_Category'] = pd.cut(df['Humidity(%)'], bins=humidity_bins, labels=humidity_labels, include_lowest=True)"
   ]
  },
  {
   "cell_type": "code",
   "execution_count": 176,
   "id": "2c293882-46b3-43b8-892c-59019ddcf4ff",
   "metadata": {},
   "outputs": [],
   "source": [
    "pressure_bins = [-float('inf'), 29.5, 30.5, float('inf')]\n",
    "pressure_labels = ['Low', 'Normal', 'High']"
   ]
  },
  {
   "cell_type": "code",
   "execution_count": 178,
   "id": "362e7362-1ce8-4f29-8ba9-4f65a3f398d6",
   "metadata": {},
   "outputs": [],
   "source": [
    "df['Pressure_Category'] = pd.cut(df['Pressure(in)'], bins=pressure_bins, labels=pressure_labels, include_lowest=True)"
   ]
  },
  {
   "cell_type": "code",
   "execution_count": 182,
   "id": "07069f59-ae0c-4a11-8c7a-f34ef78256b1",
   "metadata": {},
   "outputs": [],
   "source": [
    "wind_speed_bins = [-float('inf'), 10, 25, float('inf')]\n",
    "wind_speed_labels = ['Low', 'Moderate', 'High']"
   ]
  },
  {
   "cell_type": "code",
   "execution_count": 184,
   "id": "47d6c797-691d-4f68-a863-f782c5702779",
   "metadata": {},
   "outputs": [],
   "source": [
    "df['Wind_Speed_Category'] = pd.cut(df['Wind_Speed(mph)'], bins=wind_speed_bins, labels=wind_speed_labels, include_lowest=True)"
   ]
  },
  {
   "cell_type": "code",
   "execution_count": 186,
   "id": "ad875113-da37-426f-8dab-063f93ccccd4",
   "metadata": {},
   "outputs": [],
   "source": [
    "precipitation_bins = [-float('inf'), 0, 0.1, 1, float('inf')]\n",
    "precipitation_labels = ['None', 'Light', 'Moderate', 'Heavy']"
   ]
  },
  {
   "cell_type": "code",
   "execution_count": 188,
   "id": "c849dfba-ab47-4388-8d59-f6738118a1ed",
   "metadata": {},
   "outputs": [],
   "source": [
    "df['Precipitation_Category'] = pd.cut(df['Precipitation(in)'], bins=precipitation_bins, labels=precipitation_labels, include_lowest=True)"
   ]
  },
  {
   "cell_type": "code",
   "execution_count": 192,
   "id": "c8c9ff2b-e88a-4cc7-885a-d9f26f6e94e1",
   "metadata": {},
   "outputs": [],
   "source": [
    "visibility_bins = [-float('inf'), 1, 3, float('inf')]\n",
    "visibility_labels = ['Low Visibility', 'Moderate Visibility', 'High Visibility']"
   ]
  },
  {
   "cell_type": "code",
   "execution_count": 194,
   "id": "cebb48cb-c635-4203-982d-13eb00daa3d9",
   "metadata": {},
   "outputs": [],
   "source": [
    "df['Visibility_Category'] = pd.cut(df['Visibility(mi)'], bins=visibility_bins, labels=visibility_labels, include_lowest=True)"
   ]
  },
  {
   "cell_type": "code",
   "execution_count": 45,
   "id": "619c8e1d-1d64-48c0-8627-36b944497a3d",
   "metadata": {},
   "outputs": [
    {
     "data": {
      "text/plain": [
       "array(['OH', 'WV', 'CA', 'FL', 'GA', 'SC', 'NE', 'IA', 'IL', 'MO', 'WI',\n",
       "       'IN', 'MI', 'NJ', 'NY', 'CT', 'MA', 'RI', 'NH', 'PA', 'KY', 'MD',\n",
       "       'VA', 'DC', 'DE', 'TX', 'WA', 'OR', 'AL', 'NC', 'AZ', 'TN', 'LA',\n",
       "       'MN', 'CO', 'OK', 'NV', 'UT', 'KS', 'NM', 'AR', 'MS', 'ME', 'VT',\n",
       "       'WY', 'ID', 'ND', 'MT', 'SD'], dtype=object)"
      ]
     },
     "execution_count": 45,
     "metadata": {},
     "output_type": "execute_result"
    }
   ],
   "source": [
    "df[\"State\"].unique()"
   ]
  },
  {
   "cell_type": "markdown",
   "id": "78c65e83-0697-4e7b-ab3c-f92df10fef20",
   "metadata": {},
   "source": [
    "<h1> 2. Data Cleaning - Department of Transportation Data"
   ]
  },
  {
   "cell_type": "code",
   "execution_count": 47,
   "id": "cffe9e13-ae33-4e49-859c-b792dc84cc2c",
   "metadata": {},
   "outputs": [],
   "source": [
    "state_to_abbreviation = {\n",
    "    \"Alabama\": \"AL\", \"Alaska\": \"AK\", \"Arizona\": \"AZ\", \"Arkansas\": \"AR\", \"California\": \"CA\", \"Colorado\": \"CO\",\n",
    "    \"Connecticut\": \"CT\", \"Delaware\": \"DE\", \"Florida\": \"FL\", \"Georgia\": \"GA\", \"Hawaii\": \"HI\", \"Idaho\": \"ID\",\n",
    "    \"Illinois\": \"IL\", \"Indiana\": \"IN\", \"Iowa\": \"IA\", \"Kansas\": \"KS\", \"Kentucky\": \"KY\", \"Louisiana\": \"LA\",\n",
    "    \"Maine\": \"ME\", \"Maryland\": \"MD\", \"Massachusetts\": \"MA\", \"Michigan\": \"MI\", \"Minnesota\": \"MN\",\n",
    "    \"Mississippi\": \"MS\", \"Missouri\": \"MO\", \"Montana\": \"MT\", \"Nebraska\": \"NE\", \"Nevada\": \"NV\", \"New Hampshire\": \"NH\",\n",
    "    \"New Jersey\": \"NJ\", \"New Mexico\": \"NM\", \"New York\": \"NY\", \"North Carolina\": \"NC\", \"North Dakota\": \"ND\",\n",
    "    \"Ohio\": \"OH\", \"Oklahoma\": \"OK\", \"Oregon\": \"OR\", \"Pennsylvania\": \"PA\", \"Rhode Island\": \"RI\",\n",
    "    \"South Carolina\": \"SC\", \"South Dakota\": \"SD\", \"Tennessee\": \"TN\", \"Texas\": \"TX\", \"Utah\": \"UT\",\n",
    "    \"Vermont\": \"VT\", \"Virginia\": \"VA\", \"Washington\": \"WA\", \"West Virginia\": \"WV\", \"Wisconsin\": \"WI\", \"Wyoming\": \"WY\"\n",
    "}"
   ]
  },
  {
   "cell_type": "code",
   "execution_count": 41,
   "id": "ff1f2892-7ac9-4bda-817c-2caede68b2ff",
   "metadata": {},
   "outputs": [],
   "source": [
    "df_driver_nums = pd.read_excel(\"drivers_total.xlsx\", header=4)"
   ]
  },
  {
   "cell_type": "code",
   "execution_count": 43,
   "id": "6bf4ac6d-5828-45df-9751-84b3a0d50b67",
   "metadata": {},
   "outputs": [
    {
     "data": {
      "text/html": [
       "<div>\n",
       "<style scoped>\n",
       "    .dataframe tbody tr th:only-of-type {\n",
       "        vertical-align: middle;\n",
       "    }\n",
       "\n",
       "    .dataframe tbody tr th {\n",
       "        vertical-align: top;\n",
       "    }\n",
       "\n",
       "    .dataframe thead th {\n",
       "        text-align: right;\n",
       "    }\n",
       "</style>\n",
       "<table border=\"1\" class=\"dataframe\">\n",
       "  <thead>\n",
       "    <tr style=\"text-align: right;\">\n",
       "      <th></th>\n",
       "      <th>STATE</th>\n",
       "      <th>2006</th>\n",
       "      <th>2007</th>\n",
       "      <th>2008</th>\n",
       "      <th>2009</th>\n",
       "      <th>2010</th>\n",
       "      <th>2011</th>\n",
       "      <th>2012</th>\n",
       "      <th>2013</th>\n",
       "      <th>2014</th>\n",
       "      <th>2015</th>\n",
       "      <th>2016</th>\n",
       "      <th>2017</th>\n",
       "      <th>2018</th>\n",
       "      <th>2019</th>\n",
       "      <th>2020</th>\n",
       "      <th>2021</th>\n",
       "      <th>2022</th>\n",
       "    </tr>\n",
       "  </thead>\n",
       "  <tbody>\n",
       "    <tr>\n",
       "      <th>0</th>\n",
       "      <td>Alabama</td>\n",
       "      <td>3665180.0</td>\n",
       "      <td>3691762.0</td>\n",
       "      <td>3753550.0</td>\n",
       "      <td>3782284.0</td>\n",
       "      <td>3805751.0</td>\n",
       "      <td>3798552.0</td>\n",
       "      <td>3827522.0</td>\n",
       "      <td>3859403.0</td>\n",
       "      <td>3881542.0</td>\n",
       "      <td>3907038.0</td>\n",
       "      <td>3943082.0</td>\n",
       "      <td>3954378.0</td>\n",
       "      <td>3999057.0</td>\n",
       "      <td>4026151.0</td>\n",
       "      <td>4042900.0</td>\n",
       "      <td>4061837.0</td>\n",
       "      <td>4087885.0</td>\n",
       "    </tr>\n",
       "    <tr>\n",
       "      <th>1</th>\n",
       "      <td>Alaska (2)</td>\n",
       "      <td>489024.0</td>\n",
       "      <td>495249.0</td>\n",
       "      <td>503162.0</td>\n",
       "      <td>507759.0</td>\n",
       "      <td>515239.0</td>\n",
       "      <td>521280.0</td>\n",
       "      <td>526371.0</td>\n",
       "      <td>528873.0</td>\n",
       "      <td>531744.0</td>\n",
       "      <td>533227.0</td>\n",
       "      <td>534585.0</td>\n",
       "      <td>534585.0</td>\n",
       "      <td>536033.0</td>\n",
       "      <td>529281.0</td>\n",
       "      <td>518872.0</td>\n",
       "      <td>519288.0</td>\n",
       "      <td>521220.0</td>\n",
       "    </tr>\n",
       "    <tr>\n",
       "      <th>2</th>\n",
       "      <td>Arizona</td>\n",
       "      <td>4032643.0</td>\n",
       "      <td>4153739.0</td>\n",
       "      <td>4315579.0</td>\n",
       "      <td>4403390.0</td>\n",
       "      <td>4443647.0</td>\n",
       "      <td>4592398.0</td>\n",
       "      <td>4697579.0</td>\n",
       "      <td>4791450.0</td>\n",
       "      <td>4881801.0</td>\n",
       "      <td>4978762.0</td>\n",
       "      <td>5082305.0</td>\n",
       "      <td>5164966.0</td>\n",
       "      <td>5284970.0</td>\n",
       "      <td>5369210.0</td>\n",
       "      <td>5681495.0</td>\n",
       "      <td>5795216.0</td>\n",
       "      <td>5847661.0</td>\n",
       "    </tr>\n",
       "    <tr>\n",
       "      <th>3</th>\n",
       "      <td>Arkansas</td>\n",
       "      <td>2034975.0</td>\n",
       "      <td>2046039.0</td>\n",
       "      <td>2055189.0</td>\n",
       "      <td>2065065.0</td>\n",
       "      <td>2077806.0</td>\n",
       "      <td>1956091.0</td>\n",
       "      <td>2199164.0</td>\n",
       "      <td>2097201.0</td>\n",
       "      <td>2111873.0</td>\n",
       "      <td>2119578.0</td>\n",
       "      <td>2391103.0</td>\n",
       "      <td>2417464.0</td>\n",
       "      <td>2145334.0</td>\n",
       "      <td>2153929.0</td>\n",
       "      <td>2153929.0</td>\n",
       "      <td>2306921.0</td>\n",
       "      <td>2306921.0</td>\n",
       "    </tr>\n",
       "    <tr>\n",
       "      <th>4</th>\n",
       "      <td>California</td>\n",
       "      <td>23021279.0</td>\n",
       "      <td>23467452.0</td>\n",
       "      <td>23697667.0</td>\n",
       "      <td>23680643.0</td>\n",
       "      <td>23753441.0</td>\n",
       "      <td>23856600.0</td>\n",
       "      <td>24200997.0</td>\n",
       "      <td>24390236.0</td>\n",
       "      <td>24813346.0</td>\n",
       "      <td>25532920.0</td>\n",
       "      <td>26199436.0</td>\n",
       "      <td>26777132.0</td>\n",
       "      <td>27039400.0</td>\n",
       "      <td>27213650.0</td>\n",
       "      <td>27005302.0</td>\n",
       "      <td>27112595.0</td>\n",
       "      <td>27632103.0</td>\n",
       "    </tr>\n",
       "  </tbody>\n",
       "</table>\n",
       "</div>"
      ],
      "text/plain": [
       "        STATE        2006        2007        2008        2009        2010  \\\n",
       "0     Alabama   3665180.0   3691762.0   3753550.0   3782284.0   3805751.0   \n",
       "1  Alaska (2)    489024.0    495249.0    503162.0    507759.0    515239.0   \n",
       "2     Arizona   4032643.0   4153739.0   4315579.0   4403390.0   4443647.0   \n",
       "3    Arkansas   2034975.0   2046039.0   2055189.0   2065065.0   2077806.0   \n",
       "4  California  23021279.0  23467452.0  23697667.0  23680643.0  23753441.0   \n",
       "\n",
       "         2011        2012        2013        2014        2015        2016  \\\n",
       "0   3798552.0   3827522.0   3859403.0   3881542.0   3907038.0   3943082.0   \n",
       "1    521280.0    526371.0    528873.0    531744.0    533227.0    534585.0   \n",
       "2   4592398.0   4697579.0   4791450.0   4881801.0   4978762.0   5082305.0   \n",
       "3   1956091.0   2199164.0   2097201.0   2111873.0   2119578.0   2391103.0   \n",
       "4  23856600.0  24200997.0  24390236.0  24813346.0  25532920.0  26199436.0   \n",
       "\n",
       "         2017        2018        2019        2020        2021        2022  \n",
       "0   3954378.0   3999057.0   4026151.0   4042900.0   4061837.0   4087885.0  \n",
       "1    534585.0    536033.0    529281.0    518872.0    519288.0    521220.0  \n",
       "2   5164966.0   5284970.0   5369210.0   5681495.0   5795216.0   5847661.0  \n",
       "3   2417464.0   2145334.0   2153929.0   2153929.0   2306921.0   2306921.0  \n",
       "4  26777132.0  27039400.0  27213650.0  27005302.0  27112595.0  27632103.0  "
      ]
     },
     "execution_count": 43,
     "metadata": {},
     "output_type": "execute_result"
    }
   ],
   "source": [
    "df_driver_nums.head()"
   ]
  },
  {
   "cell_type": "code",
   "execution_count": 53,
   "id": "3ce9b606-1ba7-4b85-a91c-05ed6e921bd3",
   "metadata": {},
   "outputs": [],
   "source": [
    "df_driver_nums[\"STATE\"] = df_driver_nums[\"STATE\"].map(state_to_abbreviation).fillna(df_driver_nums[\"STATE\"])"
   ]
  },
  {
   "cell_type": "code",
   "execution_count": 57,
   "id": "2c5ce9e2-7bfa-4368-aed5-818ab0001a0c",
   "metadata": {},
   "outputs": [],
   "source": [
    "df_driver_nums.rename(columns={'STATE': 'State'}, inplace=True)"
   ]
  },
  {
   "cell_type": "code",
   "execution_count": 59,
   "id": "bf005aab-47f0-418b-b136-df090105eca9",
   "metadata": {},
   "outputs": [],
   "source": [
    "df_driver_nums = df_driver_nums[df_driver_nums[\"State\"].str.len() <= 2]"
   ]
  },
  {
   "cell_type": "code",
   "execution_count": 63,
   "id": "292262ca-05ce-4c33-a54d-482062cb803e",
   "metadata": {},
   "outputs": [],
   "source": [
    "df_driver_nums.rename(columns={'2016': 'Driver_Total_2016'}, inplace=True)\n",
    "df_driver_nums.rename(columns={'2017': 'Driver_Total_2017'}, inplace=True)\n",
    "df_driver_nums.rename(columns={'2018': 'Driver_Total_2018'}, inplace=True)\n",
    "df_driver_nums.rename(columns={'2019': 'Driver_Total_2019'}, inplace=True)\n",
    "df_driver_nums.rename(columns={'2020': 'Driver_Total_2020'}, inplace=True)\n",
    "df_driver_nums.rename(columns={'2021': 'Driver_Total_2021'}, inplace=True)\n",
    "df_driver_nums.rename(columns={'2022': 'Driver_Total_2022'}, inplace=True)"
   ]
  },
  {
   "cell_type": "markdown",
   "id": "9f6b3ad7-4bd2-48cc-a04b-74d7f714c473",
   "metadata": {},
   "source": [
    "<h1> Storing Cleaned Data</h1>"
   ]
  },
  {
   "cell_type": "code",
   "execution_count": 196,
   "id": "2ed31875-b644-4c97-af4b-61fb92305dcd",
   "metadata": {},
   "outputs": [],
   "source": [
    "df.to_pickle(\"Data/cleaned.pkl\")"
   ]
  },
  {
   "cell_type": "code",
   "execution_count": null,
   "id": "144352c8-153c-46f4-9a42-ad17e97f0ab2",
   "metadata": {},
   "outputs": [],
   "source": [
    "df_driver_nums.to_pickle(\"reg_driver_data.pkl\")"
   ]
  }
 ],
 "metadata": {
  "kernelspec": {
   "display_name": "Python 3 (ipykernel)",
   "language": "python",
   "name": "python3"
  },
  "language_info": {
   "codemirror_mode": {
    "name": "ipython",
    "version": 3
   },
   "file_extension": ".py",
   "mimetype": "text/x-python",
   "name": "python",
   "nbconvert_exporter": "python",
   "pygments_lexer": "ipython3",
   "version": "3.12.4"
  }
 },
 "nbformat": 4,
 "nbformat_minor": 5
}
